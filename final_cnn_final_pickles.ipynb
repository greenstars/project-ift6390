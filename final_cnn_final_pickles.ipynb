{
 "cells": [
  {
   "cell_type": "code",
   "execution_count": 1,
   "metadata": {},
   "outputs": [
    {
     "name": "stderr",
     "output_type": "stream",
     "text": [
      "Using TensorFlow backend.\n"
     ]
    }
   ],
   "source": [
    "import os\n",
    "import numpy as np\n",
    "\n",
    "import matplotlib.pyplot as plt\n",
    "from keras.utils import to_categorical\n"
   ]
  },
  {
   "cell_type": "code",
   "execution_count": 2,
   "metadata": {},
   "outputs": [],
   "source": [
    "import glob\n",
    "import pickle\n",
    "from sklearn.model_selection import GridSearchCV\n",
    "from keras.models import Sequential\n",
    "from keras.wrappers.scikit_learn import KerasClassifier\n",
    "from keras.optimizers import SGD\n",
    "from keras.layers import Dense, Dropout, Activation, Flatten\n",
    "from keras.layers import Conv2D, MaxPooling2D\n",
    "from keras.layers.convolutional import ZeroPadding2D\n",
    "from keras.layers.normalization import BatchNormalization\n",
    "from keras.models import load_model\n",
    "from keras.layers import LeakyReLU\n",
    "from keras.optimizers import Adam, Nadam\n",
    "import keras\n",
    "import random \n",
    "from sklearn import metrics  \n"
   ]
  },
  {
   "cell_type": "code",
   "execution_count": 3,
   "metadata": {},
   "outputs": [
    {
     "name": "stdout",
     "output_type": "stream",
     "text": [
      "cnn_proj_yvg_testing\t       specto_hd_cnn_yvg_test_1sec_85_acc.h5\r\n",
      "final_cnn.ipynb\t\t       specto_hd_cnn_yvg_test_1sec_90_acc.h5\r\n",
      "librispeech_1sec_hdpickle      specto_hd_cnn_yvg_test_1sec_91_acc.h5\r\n",
      "librispeech_1sec_hdpickle.zip  val_acc_87_30_epoches_copy.h5\r\n",
      "librit_1sec_hdpickle\t       val_acc_87_30_epoches.h5\r\n",
      "librit_1sec_hdpickle.zip\r\n"
     ]
    }
   ],
   "source": [
    "!ls"
   ]
  },
  {
   "cell_type": "code",
   "execution_count": null,
   "metadata": {},
   "outputs": [],
   "source": []
  },
  {
   "cell_type": "markdown",
   "metadata": {},
   "source": [
    "# the *hopefully* final pickles are pickled locally\n",
    "## we only load them here\n",
    "## refer to `repickle_all_final.py` on Github for the source code for final pickle\n",
    "Note: final pickle pulls the 'spectrum' key of all the `.1sec_hdpickles` and aggregates them"
   ]
  },
  {
   "cell_type": "code",
   "execution_count": 4,
   "metadata": {},
   "outputs": [],
   "source": [
    "def valLoad():\n",
    "    DATA_PATH = \"cnn_proj_yvg_testing\"\n",
    "\n",
    "    with open(os.path.join(DATA_PATH, \"val_1_sec_hd_feature.pickle\"), 'rb') as jar:\n",
    "        x_val = pickle.load(jar)\n",
    "\n",
    "    with open(os.path.join(DATA_PATH, \"val_1_sec_hd_label.pickle\"), 'rb') as jar:\n",
    "        y_val = pickle.load(jar)\n",
    "\n",
    "    print(y_val.shape)\n",
    "    \n",
    "    # convert to one hot\n",
    "    # note: only execute once! per session!\n",
    "    y_val = np.reshape(y_val, (y_val.shape[0], -1))\n",
    "    y_val = to_categorical(y_val)\n",
    "    print(y_val.shape)\n",
    "    \n",
    "    return x_val, y_val"
   ]
  },
  {
   "cell_type": "code",
   "execution_count": 5,
   "metadata": {},
   "outputs": [
    {
     "name": "stdout",
     "output_type": "stream",
     "text": [
      "saved_models  train_1_sec_hd_feature.pickle  val_1_sec_hd_feature.pickle\r\n",
      "subPickles    train_1_sec_hd_label.pickle    val_1_sec_hd_label.pickle\r\n"
     ]
    }
   ],
   "source": [
    "!ls cnn_proj_yvg_testing"
   ]
  },
  {
   "cell_type": "markdown",
   "metadata": {},
   "source": [
    "# SVM"
   ]
  },
  {
   "cell_type": "code",
   "execution_count": 6,
   "metadata": {},
   "outputs": [],
   "source": [
    "\n",
    "# x_train_svm = x_train.reshape(x_train.shape[0],x_train.shape[1]*x_train.shape[2] )\n",
    "\n",
    "\n",
    "# x_val_svm = x_val.reshape(x_val.shape[0],x_val.shape[1]*x_val.shape[2] )\n",
    "\n",
    "# print(x_train_svm.shape)"
   ]
  },
  {
   "cell_type": "code",
   "execution_count": 7,
   "metadata": {},
   "outputs": [],
   "source": [
    "# from sklearn import svm\n",
    "# from sklearn.metrics import accuracy_score\n",
    "\n",
    "# clf = svm.LinearSVC()\n",
    "# clf.fit(x_train_svm, y_train)\n",
    "# print(\"train\", clf.score(x_train_svm, y_train))\n",
    "# y_pred = clf.predict(x_val_svm)\n",
    "# score = accuracy_score(y_val, y_pred)\n",
    "# print(\"val \", score)"
   ]
  },
  {
   "cell_type": "code",
   "execution_count": 8,
   "metadata": {},
   "outputs": [],
   "source": [
    "# from sklearn.dummy import DummyClassifier\n",
    "\n",
    "# uniform = DummyClassifier(strategy='most_frequent', random_state=2)\n",
    "# uniform.fit(x_train_svm, y_train)\n",
    "\n",
    "# print(uniform.score(x_train_svm, y_train))\n",
    "\n",
    "# print(uniform.score(x_val_svm, y_val))"
   ]
  },
  {
   "cell_type": "markdown",
   "metadata": {},
   "source": [
    "# BEGIN Only run ONCE per session!\n",
    "## reshapes for the CNN"
   ]
  },
  {
   "cell_type": "code",
   "execution_count": 9,
   "metadata": {},
   "outputs": [],
   "source": [
    "\n",
    "\n",
    "# # convert to one hot\n",
    "# # note: only execute once! per session!\n",
    "# y_val = np.reshape(y_val, (y_val.shape[0], -1))\n",
    "# y_val = to_categorical(y_val)\n",
    "# print(y_val.shape)\n"
   ]
  },
  {
   "cell_type": "code",
   "execution_count": 10,
   "metadata": {},
   "outputs": [],
   "source": [
    "\n",
    "# # convert to one hot for training\n",
    "# # note: only execute once!\n",
    "\n",
    "# y_train = np.reshape(y_train, (y_train.shape[0], -1))\n",
    "# y_train = to_categorical(y_train)\n",
    "# print(y_train.shape)"
   ]
  },
  {
   "cell_type": "markdown",
   "metadata": {},
   "source": [
    "# END: only run once per session\n"
   ]
  },
  {
   "cell_type": "code",
   "execution_count": 11,
   "metadata": {},
   "outputs": [],
   "source": [
    "\n",
    "# new 1 sec pickles\n",
    "librispeech_spectrogram_path = \"librispeech_1sec_hdpickle\"\n",
    "librit_spectrogram_path = \"librit_1sec_hdpickle\"\n"
   ]
  },
  {
   "cell_type": "code",
   "execution_count": 12,
   "metadata": {},
   "outputs": [
    {
     "name": "stdout",
     "output_type": "stream",
     "text": [
      "cnn_proj_yvg_testing\t       specto_hd_cnn_yvg_test_1sec_85_acc.h5\r\n",
      "final_cnn.ipynb\t\t       specto_hd_cnn_yvg_test_1sec_90_acc.h5\r\n",
      "librispeech_1sec_hdpickle      specto_hd_cnn_yvg_test_1sec_91_acc.h5\r\n",
      "librispeech_1sec_hdpickle.zip  val_acc_87_30_epoches_copy.h5\r\n",
      "librit_1sec_hdpickle\t       val_acc_87_30_epoches.h5\r\n",
      "librit_1sec_hdpickle.zip\r\n"
     ]
    }
   ],
   "source": [
    "!ls"
   ]
  },
  {
   "cell_type": "code",
   "execution_count": 13,
   "metadata": {},
   "outputs": [],
   "source": [
    "def data_generator(files,labels, batch_size = 1):\n",
    "\n",
    "    nv_shape = (201, 66,1)\n",
    "\n",
    "    while True:\n",
    "        batch_features = []\n",
    "        batch_labels = []\n",
    "        file_index = random.randint(0,len(files)-1)\n",
    "        file = files[file_index]\n",
    "        label = oneHot(labels[file_index])\n",
    "            \n",
    "        #print(\"label after one hot\", label)\n",
    "        for i in range(batch_size):\n",
    "            with open(file, 'rb') as jar:\n",
    "                data_file = pickle.load(jar)\n",
    "            #print(np.array(data_file['t']))\n",
    "\n",
    "            if data_file['spectrum'].shape == (201, 66):\n",
    "\n",
    "                batch_features.append(data_file['spectrum'].reshape(nv_shape))\n",
    "                batch_labels.append(label)\n",
    "\n",
    "\n",
    "            else:\n",
    "                #print('small_files =',file)\n",
    "                continue\n",
    "                \n",
    "        batch_features = np.array(batch_features)\n",
    "        batch_features = batch_features.reshape((batch_size,201, 66, 1))\n",
    "        \n",
    "        print(\"yield array batch_features\", batch_features.shape)\n",
    "        yield batch_features, batch_labels    "
   ]
  },
  {
   "cell_type": "code",
   "execution_count": 14,
   "metadata": {},
   "outputs": [],
   "source": [
    "# print(train_all_files)"
   ]
  },
  {
   "cell_type": "code",
   "execution_count": 26,
   "metadata": {},
   "outputs": [],
   "source": [
    "def modelConstruct():\n",
    "    model = Sequential()\n",
    "    \n",
    "    ###### conv layer 1 ######\n",
    "    model.add(Conv2D(32, kernel_size=(4,4), input_shape=(201, 66,1),\n",
    "                     kernel_initializer=keras.initializers.glorot_normal(),activation = 'relu'))\n",
    "\n",
    "    keras.layers.BatchNormalization(axis = 0)\n",
    "    model.add(MaxPooling2D(pool_size=(4,4), padding='SAME'))\n",
    "\n",
    "    \n",
    "    ###### conv 2 ##########\n",
    "    model.add(Conv2D(32, kernel_size=(4,4), \n",
    "                                     kernel_initializer=keras.initializers.glorot_normal(seed=None),activation = 'relu'))\n",
    "    keras.layers.BatchNormalization(axis = 0)\n",
    "    model.add(MaxPooling2D(pool_size=(2,2), padding='SAME'))\n",
    "\n",
    "    \n",
    "    ###### conv 3 ##########\n",
    "    model.add(Conv2D(32, kernel_size=(4,4),strides=(1, 1), padding='SAME', \n",
    "                                     kernel_initializer=keras.initializers.glorot_normal(seed=None),activation = 'relu'))\n",
    "\n",
    "    #model.add(LeakyReLU(alpha=0.1))\n",
    "    keras.layers.BatchNormalization(axis = 0)\n",
    "    model.add(MaxPooling2D(pool_size=(2,2), padding='SAME'))\n",
    "    \n",
    "    ###### conv 4 ##########\n",
    "    model.add(Conv2D(32, kernel_size=(4,4),strides=(1, 1), padding='SAME', \n",
    "                                     kernel_initializer=keras.initializers.glorot_normal(seed=None),activation = 'relu'))\n",
    "\n",
    "    #model.add(LeakyReLU(alpha=0.1))\n",
    "    keras.layers.BatchNormalization(axis = 0)\n",
    "    model.add(MaxPooling2D(pool_size=(2,2), padding='SAME'))\n",
    "    \n",
    "    ### Fully connected #######\n",
    "    model.add(Flatten())\n",
    "    #model.add(Dense(10, activation='relu'))\n",
    "    #model.add(Dense(64, activation=''relu'))\n",
    "\n",
    "    model.add(keras.layers.Dropout(0.3, noise_shape=None, seed=None))\n",
    "    model.add(Dense(2, activation='softmax'))\n",
    "    \n",
    "    # compile and return \n",
    "    model.compile(loss=keras.losses.categorical_crossentropy,\n",
    "                  optimizer=keras.optimizers.Nadam(lr = 0.001),\n",
    "                  metrics=['accuracy'])\n",
    "    return model"
   ]
  },
  {
   "cell_type": "code",
   "execution_count": 16,
   "metadata": {},
   "outputs": [],
   "source": [
    "\n",
    "def imNorm(arr):\n",
    "    for i in range(arr.shape[0]):\n",
    "\n",
    "        arr[i] -= np.min(arr[i])\n",
    "        arr[i] = np.minimum(arr[i], 255)\n",
    "    return arr"
   ]
  },
  {
   "cell_type": "code",
   "execution_count": 27,
   "metadata": {},
   "outputs": [
    {
     "name": "stdout",
     "output_type": "stream",
     "text": [
      "_________________________________________________________________\n",
      "Layer (type)                 Output Shape              Param #   \n",
      "=================================================================\n",
      "conv2d_4 (Conv2D)            (None, 198, 63, 32)       544       \n",
      "_________________________________________________________________\n",
      "max_pooling2d_4 (MaxPooling2 (None, 50, 16, 32)        0         \n",
      "_________________________________________________________________\n",
      "conv2d_5 (Conv2D)            (None, 47, 13, 32)        16416     \n",
      "_________________________________________________________________\n",
      "max_pooling2d_5 (MaxPooling2 (None, 24, 7, 32)         0         \n",
      "_________________________________________________________________\n",
      "conv2d_6 (Conv2D)            (None, 24, 7, 32)         16416     \n",
      "_________________________________________________________________\n",
      "max_pooling2d_6 (MaxPooling2 (None, 12, 4, 32)         0         \n",
      "_________________________________________________________________\n",
      "conv2d_7 (Conv2D)            (None, 12, 4, 32)         16416     \n",
      "_________________________________________________________________\n",
      "max_pooling2d_7 (MaxPooling2 (None, 6, 2, 32)          0         \n",
      "_________________________________________________________________\n",
      "flatten_2 (Flatten)          (None, 384)               0         \n",
      "_________________________________________________________________\n",
      "dropout_2 (Dropout)          (None, 384)               0         \n",
      "_________________________________________________________________\n",
      "dense_2 (Dense)              (None, 2)                 770       \n",
      "=================================================================\n",
      "Total params: 50,562\n",
      "Trainable params: 50,562\n",
      "Non-trainable params: 0\n",
      "_________________________________________________________________\n",
      "training on pickle x_train_splitted0.pickle\n",
      "Train on 6795 samples, validate on 756 samples\n",
      "Epoch 1/10\n",
      "6795/6795 [==============================] - 4s 607us/step - loss: 1.0268 - acc: 0.5835 - val_loss: 0.6059 - val_acc: 0.6772\n",
      "Epoch 2/10\n",
      "6795/6795 [==============================] - 4s 533us/step - loss: 0.6111 - acc: 0.6633 - val_loss: 0.5538 - val_acc: 0.7169\n",
      "Epoch 3/10\n",
      "6795/6795 [==============================] - 4s 536us/step - loss: 0.5544 - acc: 0.7160 - val_loss: 0.5104 - val_acc: 0.7553\n",
      "Epoch 4/10\n",
      "6795/6795 [==============================] - 4s 534us/step - loss: 0.5133 - acc: 0.7506 - val_loss: 0.5223 - val_acc: 0.7447\n",
      "Epoch 5/10\n",
      "6795/6795 [==============================] - 4s 534us/step - loss: 0.4716 - acc: 0.7725 - val_loss: 0.4591 - val_acc: 0.7791\n",
      "Epoch 6/10\n",
      "6795/6795 [==============================] - 4s 535us/step - loss: 0.4403 - acc: 0.7929 - val_loss: 0.4237 - val_acc: 0.7963\n",
      "Epoch 7/10\n",
      "6795/6795 [==============================] - 4s 534us/step - loss: 0.4046 - acc: 0.8130 - val_loss: 0.4315 - val_acc: 0.7870\n",
      "Epoch 8/10\n",
      "6795/6795 [==============================] - 4s 533us/step - loss: 0.3685 - acc: 0.8362 - val_loss: 0.4511 - val_acc: 0.7857\n",
      "Epoch 9/10\n",
      "6795/6795 [==============================] - 4s 534us/step - loss: 0.3414 - acc: 0.8527 - val_loss: 0.3885 - val_acc: 0.8161\n",
      "Epoch 10/10\n",
      "6795/6795 [==============================] - 4s 534us/step - loss: 0.3105 - acc: 0.8652 - val_loss: 0.4232 - val_acc: 0.8042\n",
      "training on pickle x_train_splitted1.pickle\n",
      "Train on 6795 samples, validate on 756 samples\n",
      "Epoch 1/10\n",
      "6795/6795 [==============================] - 4s 533us/step - loss: 0.4591 - acc: 0.7773 - val_loss: 0.4374 - val_acc: 0.8003\n",
      "Epoch 2/10\n",
      "6795/6795 [==============================] - 4s 533us/step - loss: 0.3891 - acc: 0.8238 - val_loss: 0.4008 - val_acc: 0.8333\n",
      "Epoch 3/10\n",
      "6795/6795 [==============================] - 4s 532us/step - loss: 0.3410 - acc: 0.8483 - val_loss: 0.4036 - val_acc: 0.8307\n",
      "Epoch 4/10\n",
      "6795/6795 [==============================] - 4s 532us/step - loss: 0.3029 - acc: 0.8714 - val_loss: 0.3996 - val_acc: 0.8254\n",
      "Epoch 5/10\n",
      "6795/6795 [==============================] - 4s 534us/step - loss: 0.2724 - acc: 0.8848 - val_loss: 0.3972 - val_acc: 0.8399\n",
      "Epoch 6/10\n",
      "6795/6795 [==============================] - 4s 534us/step - loss: 0.2310 - acc: 0.9089 - val_loss: 0.4042 - val_acc: 0.8360\n",
      "Epoch 7/10\n",
      "6795/6795 [==============================] - 4s 534us/step - loss: 0.2024 - acc: 0.9182 - val_loss: 0.4531 - val_acc: 0.8228\n",
      "Epoch 8/10\n",
      "6795/6795 [==============================] - 4s 534us/step - loss: 0.1800 - acc: 0.9247 - val_loss: 0.4923 - val_acc: 0.8294\n",
      "Epoch 9/10\n",
      "6795/6795 [==============================] - 4s 537us/step - loss: 0.1499 - acc: 0.9369 - val_loss: 0.4605 - val_acc: 0.8360\n",
      "Epoch 10/10\n",
      "6795/6795 [==============================] - 4s 535us/step - loss: 0.1424 - acc: 0.9450 - val_loss: 0.4922 - val_acc: 0.8439\n",
      "training on pickle x_train_splitted2.pickle\n",
      "Train on 6795 samples, validate on 756 samples\n",
      "Epoch 1/10\n",
      "6795/6795 [==============================] - 4s 533us/step - loss: 0.3941 - acc: 0.8266 - val_loss: 0.3254 - val_acc: 0.8479\n",
      "Epoch 2/10\n",
      "6795/6795 [==============================] - 4s 534us/step - loss: 0.3041 - acc: 0.8675 - val_loss: 0.3172 - val_acc: 0.8651\n",
      "Epoch 3/10\n",
      "6795/6795 [==============================] - 4s 531us/step - loss: 0.2494 - acc: 0.8945 - val_loss: 0.3444 - val_acc: 0.8624\n",
      "Epoch 4/10\n",
      "6795/6795 [==============================] - 4s 536us/step - loss: 0.2036 - acc: 0.9155 - val_loss: 0.3669 - val_acc: 0.8545\n",
      "Epoch 5/10\n",
      "6795/6795 [==============================] - 4s 533us/step - loss: 0.1852 - acc: 0.9255 - val_loss: 0.3358 - val_acc: 0.8611\n",
      "Epoch 6/10\n",
      "6795/6795 [==============================] - 4s 531us/step - loss: 0.1497 - acc: 0.9389 - val_loss: 0.3800 - val_acc: 0.8664\n",
      "Epoch 7/10\n",
      "6795/6795 [==============================] - 4s 533us/step - loss: 0.1281 - acc: 0.9470 - val_loss: 0.3873 - val_acc: 0.8664\n",
      "Epoch 8/10\n",
      "6795/6795 [==============================] - 4s 533us/step - loss: 0.1202 - acc: 0.9523 - val_loss: 0.4658 - val_acc: 0.8611\n",
      "Epoch 9/10\n",
      "6795/6795 [==============================] - 4s 542us/step - loss: 0.1093 - acc: 0.9579 - val_loss: 0.4548 - val_acc: 0.8677\n",
      "Epoch 10/10\n",
      "6795/6795 [==============================] - 4s 550us/step - loss: 0.0959 - acc: 0.9632 - val_loss: 0.4521 - val_acc: 0.8664\n",
      "training on pickle x_train_splitted3.pickle\n",
      "Train on 6795 samples, validate on 755 samples\n",
      "Epoch 1/10\n",
      "6795/6795 [==============================] - 4s 534us/step - loss: 0.3685 - acc: 0.8397 - val_loss: 0.3100 - val_acc: 0.8834\n",
      "Epoch 2/10\n",
      "6795/6795 [==============================] - 4s 533us/step - loss: 0.2779 - acc: 0.8768 - val_loss: 0.3092 - val_acc: 0.8662\n",
      "Epoch 3/10\n",
      "6795/6795 [==============================] - 4s 532us/step - loss: 0.2226 - acc: 0.9073 - val_loss: 0.2901 - val_acc: 0.8901\n",
      "Epoch 4/10\n",
      "6795/6795 [==============================] - 4s 533us/step - loss: 0.1909 - acc: 0.9232 - val_loss: 0.2838 - val_acc: 0.8927\n",
      "Epoch 5/10\n",
      "6795/6795 [==============================] - 4s 532us/step - loss: 0.1544 - acc: 0.9385 - val_loss: 0.3078 - val_acc: 0.8821\n",
      "Epoch 6/10\n",
      "6795/6795 [==============================] - 4s 534us/step - loss: 0.1205 - acc: 0.9523 - val_loss: 0.3847 - val_acc: 0.8874\n",
      "Epoch 7/10\n",
      "6795/6795 [==============================] - 4s 532us/step - loss: 0.1094 - acc: 0.9554 - val_loss: 0.3542 - val_acc: 0.8848\n",
      "Epoch 8/10\n",
      "6795/6795 [==============================] - 4s 532us/step - loss: 0.1013 - acc: 0.9619 - val_loss: 0.3633 - val_acc: 0.8940\n",
      "Epoch 9/10\n",
      "6795/6795 [==============================] - 4s 533us/step - loss: 0.1036 - acc: 0.9604 - val_loss: 0.3835 - val_acc: 0.8993\n",
      "Epoch 10/10\n",
      "6795/6795 [==============================] - 4s 532us/step - loss: 0.1050 - acc: 0.9611 - val_loss: 0.3697 - val_acc: 0.8993\n",
      "training on pickle x_train_splitted4.pickle\n",
      "Train on 6795 samples, validate on 755 samples\n",
      "Epoch 1/10\n",
      "6795/6795 [==============================] - 4s 533us/step - loss: 0.3293 - acc: 0.8608 - val_loss: 0.2549 - val_acc: 0.8834\n",
      "Epoch 2/10\n",
      "6795/6795 [==============================] - 4s 532us/step - loss: 0.2319 - acc: 0.8996 - val_loss: 0.2232 - val_acc: 0.9007\n",
      "Epoch 3/10\n",
      "6795/6795 [==============================] - 4s 531us/step - loss: 0.1811 - acc: 0.9232 - val_loss: 0.2327 - val_acc: 0.9033\n",
      "Epoch 4/10\n",
      "6795/6795 [==============================] - 4s 531us/step - loss: 0.1417 - acc: 0.9461 - val_loss: 0.2217 - val_acc: 0.8993\n"
     ]
    },
    {
     "name": "stdout",
     "output_type": "stream",
     "text": [
      "Epoch 5/10\n",
      "6795/6795 [==============================] - 4s 532us/step - loss: 0.1156 - acc: 0.9536 - val_loss: 0.2741 - val_acc: 0.9007\n",
      "Epoch 6/10\n",
      "6795/6795 [==============================] - 4s 532us/step - loss: 0.1230 - acc: 0.9535 - val_loss: 0.3338 - val_acc: 0.8874\n",
      "Epoch 7/10\n",
      "6795/6795 [==============================] - 4s 533us/step - loss: 0.0811 - acc: 0.9706 - val_loss: 0.2930 - val_acc: 0.9152\n",
      "Epoch 8/10\n",
      "6795/6795 [==============================] - 4s 531us/step - loss: 0.0713 - acc: 0.9741 - val_loss: 0.2528 - val_acc: 0.9060\n",
      "Epoch 9/10\n",
      "6795/6795 [==============================] - 4s 531us/step - loss: 0.0929 - acc: 0.9639 - val_loss: 0.2855 - val_acc: 0.9099\n",
      "Epoch 10/10\n",
      "6795/6795 [==============================] - 4s 533us/step - loss: 0.0646 - acc: 0.9750 - val_loss: 0.2952 - val_acc: 0.9192\n"
     ]
    }
   ],
   "source": [
    "MODEL_PATH = \"cnn_proj_yvg_testing/saved_models\"\n",
    "\n",
    "filepath = os.path.join(MODEL_PATH, \"weights-improvement-{epoch:02d}-{loss:.4f}.h5\")   \n",
    "callbacks_list = [  keras.callbacks.EarlyStopping(\n",
    "        monitor='val_acc', \n",
    "        patience= 10,\n",
    "        mode='max',\n",
    "        verbose=1),\n",
    "    keras.callbacks.ModelCheckpoint(filepath,\n",
    "        monitor='val_acc', \n",
    "        save_best_only=True, \n",
    "        mode='max',\n",
    "        verbose=0)\n",
    "]\n",
    "\n",
    "\n",
    "model = modelConstruct()\n",
    "model.summary()\n",
    "\n",
    "#############################################\n",
    "# Use chunck loading the train data\n",
    "#############################################\n",
    "# load one chunck of x_train\n",
    "\n",
    "# global count of which chunck we read\n",
    "modelHistArr = []\n",
    "file_path = \"cnn_proj_yvg_testing/subPickles\"\n",
    "for i in range(5):\n",
    "    # load features \n",
    "    x_name = 'x_train_splitted' + str(i) + '.pickle'\n",
    "    file_name = os.path.join(file_path, x_name) \n",
    "    print(\"training on pickle\", x_name)\n",
    "    with open(file_name, 'rb') as jar:\n",
    "        x_train = pickle.load(jar)\n",
    "    x_train = imNorm(x_train)\n",
    "    \n",
    "    y_name = 'y_train_splitted' + str(i) + '.pickle'\n",
    "    file_name = os.path.join(file_path, y_name)\n",
    "    with open(file_name, 'rb') as jar:\n",
    "        y_train = pickle.load(jar)\n",
    "\n",
    "    y_train = to_categorical(y_train, num_classes = 2)\n",
    "    modelHist2 = model.fit(x_train, y_train, validation_split = 0.1,\n",
    "          batch_size=32, epochs=10, callbacks = callbacks_list)\n",
    "    modelHistArr.append(modelHist2)\n",
    "\n",
    "\n"
   ]
  },
  {
   "cell_type": "code",
   "execution_count": 18,
   "metadata": {},
   "outputs": [
    {
     "name": "stdout",
     "output_type": "stream",
     "text": [
      "(4196,)\n",
      "(4196, 2)\n"
     ]
    }
   ],
   "source": [
    "x_val, y_val = valLoad()\n",
    "from sklearn import metrics  \n",
    "x_val = imNorm(x_val)\n"
   ]
  },
  {
   "cell_type": "code",
   "execution_count": 28,
   "metadata": {},
   "outputs": [
    {
     "name": "stdout",
     "output_type": "stream",
     "text": [
      "[[1710  234]\n",
      " [ 200 2052]]\n",
      "             precision    recall  f1-score   support\n",
      "\n",
      "          0       0.90      0.88      0.89      1944\n",
      "          1       0.90      0.91      0.90      2252\n",
      "\n",
      "avg / total       0.90      0.90      0.90      4196\n",
      "\n"
     ]
    }
   ],
   "source": [
    "y_pred = model.predict(x_val)\n",
    "matrix = metrics.confusion_matrix(y_val.argmax(axis=1), y_pred.argmax(axis=1))\n",
    "print(matrix)\n",
    "socre = metrics.confusion_matrix\n",
    "\n",
    "from sklearn.metrics import classification_report\n",
    "print(classification_report(y_val.argmax(axis=1), y_pred.argmax(axis=1)))"
   ]
  },
  {
   "cell_type": "code",
   "execution_count": 29,
   "metadata": {},
   "outputs": [],
   "source": [
    "DATA_PATH = './'\n",
    "model.save(os.path.join(DATA_PATH, 'specto_hd_cnn_yvg_test_final_acc.h5'))"
   ]
  },
  {
   "cell_type": "code",
   "execution_count": 21,
   "metadata": {},
   "outputs": [],
   "source": [
    "\n",
    "#############################################\n",
    "# using the class based generator\n",
    "#############################################\n",
    "\n",
    "\n",
    "#no_of_train_files\n",
    "#num_val = no_of_files - no_of_train_files\n",
    "\n",
    "\n",
    "# modeHist2 = model.fit_generator(generator=training_generator,\n",
    "#                                 validation_data=validation_generator,\n",
    "#                                 callbacks = callbacks_list,\n",
    "#                      steps_per_epoch=no_of_train_files // params['batch_size'] ,\n",
    "#                                 epochs=5, validation_steps = no_of_val_files // params['batch_size']\n",
    "#                     )\n",
    "\n",
    "\n",
    "\n",
    "#############################################\n",
    "# use the infinite loop based generator\n",
    "#############################################\n",
    "# batch_size = 32\n",
    "\n",
    "# num_classes = 2\n",
    "# modelHist2 = model.fit_generator(generator=data_generator(train_all_files,train_all_labels),\n",
    "#                     validation_data=data_generator(val_all_files,val_all_labels),\n",
    "#                  callbacks = callbacks_list,\n",
    "#                 steps_per_epoch=no_of_train_files, \n",
    "#                 epochs=50, validation_steps = no_of_val_files)\n"
   ]
  },
  {
   "cell_type": "code",
   "execution_count": 22,
   "metadata": {},
   "outputs": [
    {
     "name": "stdout",
     "output_type": "stream",
     "text": [
      "[0.8444444444356726, 0.8925680647447234, 0.9233259749816041, 0.9408388520883584, 0.9421633554083885, 0.9548197203826343, 0.9648270787782227, 0.9612950699043414, 0.968064753495217, 0.9673289183222958]\n"
     ]
    }
   ],
   "source": [
    "print((modelHist2.history['acc']))"
   ]
  },
  {
   "cell_type": "code",
   "execution_count": 23,
   "metadata": {},
   "outputs": [],
   "source": [
    "# consolidate arrray of model histories\n",
    "historyArr = {k: [] for k in ['acc', 'loss', 'val_acc', 'val_loss']}\n",
    "for i in range(len(modelHistArr)):\n",
    "    for k,v in historyArr.items():\n",
    "        v.extend(modelHistArr[i].history[k])\n",
    " \n",
    " "
   ]
  },
  {
   "cell_type": "code",
   "execution_count": 24,
   "metadata": {},
   "outputs": [
    {
     "name": "stdout",
     "output_type": "stream",
     "text": [
      "[1.6783900205487272, 0.5684538016870146, 0.4920061734601625, 0.44304983984292473, 0.40334937104063057, 0.36129529464762383, 0.3322003577148502, 0.296216050408797, 0.25900801140390134, 0.23127189235127174, 0.4252790199429608, 0.3235554461403749, 0.26914549232011686, 0.22378511228012724, 0.1907082482021113, 0.15815854137921, 0.1314357748445647, 0.12440174427027371, 0.1135949490645337, 0.1089591041240208, 0.37148785721387295, 0.26463561735011093, 0.2154113653435963, 0.18299775009123695, 0.14515150820533523, 0.12232947068959146, 0.12496526392260354, 0.10834770261832925, 0.08476949319451763, 0.07793521276394877, 0.39673739842977307, 0.27029921105015003, 0.22152830026194048, 0.1852986547173528, 0.13467714868436587, 0.13672354979457016, 0.12021853013500033, 0.09924220543757706, 0.09484322791373613, 0.08173977179448322, 0.3883571800938242, 0.2593998447817156, 0.187838663592814, 0.15324798991041555, 0.14042650697159365, 0.11827371677505764, 0.08760384450597392, 0.09759114253621842, 0.0836784221445751, 0.08467505722168923]\n"
     ]
    }
   ],
   "source": [
    "print((historyArr['loss']))"
   ]
  },
  {
   "cell_type": "code",
   "execution_count": 25,
   "metadata": {},
   "outputs": [
    {
     "data": {
      "image/png": "[encoded data removed]",
      "text/plain": [
       "<Figure size 504x360 with 1 Axes>"
      ]
     },
     "metadata": {},
     "output_type": "display_data"
    }
   ],
   "source": [
    "# Now plot\n",
    "import matplotlib.pyplot as plt\n",
    "\n",
    "\n",
    "epochs = np.arange(0, 51, 2.0)\n",
    "\n",
    "\n",
    "plt.rcParams.update(plt.rcParamsDefault)\n",
    "%matplotlib inline\n",
    "plt.style.use('ggplot')\n",
    "plt.rcParams[\"figure.figsize\"] = (7,5)\n",
    "\n",
    "plt.plot(historyArr['acc'], color='blue', linestyle='solid', label='Training accuracy')\n",
    "plt.plot(historyArr['loss'], color='blue', linestyle='dashed', label='Training loss')\n",
    "\n",
    "plt.plot(historyArr['val_acc'], color='red', linestyle='solid', label='Validation accuracy')\n",
    "plt.plot(historyArr['val_loss'], color='red', linestyle='dashed', label='Validation loss')\n",
    "\n",
    "plt.xlabel('Number of epochs')\n",
    "plt.xticks(epochs)\n",
    "\n",
    "plt.ylabel('Classification accuracy (%) \\n / Cross-entropy loss')\n",
    "\n",
    "legend = plt.legend(frameon = 1)\n",
    "frame = legend.get_frame()\n",
    "frame.set_facecolor('white')\n",
    "frame.set_edgecolor('black')\n",
    "\n",
    "plt.show()"
   ]
  }
 ],
 "metadata": {
  "kernelspec": {
   "display_name": "Python 3",
   "language": "python",
   "name": "python3"
  },
  "language_info": {
   "codemirror_mode": {
    "name": "ipython",
    "version": 3
   },
   "file_extension": ".py",
   "mimetype": "text/x-python",
   "name": "python",
   "nbconvert_exporter": "python",
   "pygments_lexer": "ipython3",
   "version": "3.6.5"
  }
 },
 "nbformat": 4,
 "nbformat_minor": 2
}
