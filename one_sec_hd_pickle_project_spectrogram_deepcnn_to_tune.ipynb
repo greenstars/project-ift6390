{
  "nbformat": 4,
  "nbformat_minor": 0,
  "metadata": {
    "colab": {
      "name": "one_sec_hd_pickle_project_spectrogram_deepcnn_to_tune.ipynb",
      "version": "0.3.2",
      "provenance": [],
      "collapsed_sections": []
    },
    "kernelspec": {
      "name": "python3",
      "display_name": "Python 3"
    },
    "accelerator": "GPU"
  },
  "cells": [
    {
      "metadata": {
        "id": "rvxToVY1Vpmk",
        "colab_type": "code",
        "outputId": "1d082929-3625-4d6a-c476-13aaa849073d",
        "colab": {
          "base_uri": "https://localhost:8080/",
          "height": 343
        }
      },
      "cell_type": "code",
      "source": [
        "!pip install PyDrive\n"
      ],
      "execution_count": 0,
      "outputs": [
        {
          "output_type": "stream",
          "text": [
            "Collecting PyDrive\n",
            "\u001b[?25l  Downloading https://files.pythonhosted.org/packages/52/e0/0e64788e5dd58ce2d6934549676243dc69d982f198524be9b99e9c2a4fd5/PyDrive-1.3.1.tar.gz (987kB)\n",
            "\u001b[K    100% |████████████████████████████████| 993kB 19.7MB/s \n",
            "\u001b[?25hRequirement already satisfied: google-api-python-client>=1.2 in /usr/local/lib/python3.6/dist-packages (from PyDrive) (1.6.7)\n",
            "Requirement already satisfied: oauth2client>=4.0.0 in /usr/local/lib/python3.6/dist-packages (from PyDrive) (4.1.3)\n",
            "Requirement already satisfied: PyYAML>=3.0 in /usr/local/lib/python3.6/dist-packages (from PyDrive) (3.13)\n",
            "Requirement already satisfied: six<2dev,>=1.6.1 in /usr/local/lib/python3.6/dist-packages (from google-api-python-client>=1.2->PyDrive) (1.11.0)\n",
            "Requirement already satisfied: httplib2<1dev,>=0.9.2 in /usr/local/lib/python3.6/dist-packages (from google-api-python-client>=1.2->PyDrive) (0.11.3)\n",
            "Requirement already satisfied: uritemplate<4dev,>=3.0.0 in /usr/local/lib/python3.6/dist-packages (from google-api-python-client>=1.2->PyDrive) (3.0.0)\n",
            "Requirement already satisfied: pyasn1-modules>=0.0.5 in /usr/local/lib/python3.6/dist-packages (from oauth2client>=4.0.0->PyDrive) (0.2.2)\n",
            "Requirement already satisfied: rsa>=3.1.4 in /usr/local/lib/python3.6/dist-packages (from oauth2client>=4.0.0->PyDrive) (4.0)\n",
            "Requirement already satisfied: pyasn1>=0.1.7 in /usr/local/lib/python3.6/dist-packages (from oauth2client>=4.0.0->PyDrive) (0.4.4)\n",
            "Building wheels for collected packages: PyDrive\n",
            "  Running setup.py bdist_wheel for PyDrive ... \u001b[?25l-\b \b\\\b \bdone\n",
            "\u001b[?25h  Stored in directory: /root/.cache/pip/wheels/fa/d2/9a/d3b6b506c2da98289e5d417215ce34b696db856643bad779f4\n",
            "Successfully built PyDrive\n",
            "Installing collected packages: PyDrive\n",
            "Successfully installed PyDrive-1.3.1\n"
          ],
          "name": "stdout"
        }
      ]
    },
    {
      "metadata": {
        "id": "QGSxKCBYWvSk",
        "colab_type": "code",
        "outputId": "c9d5874e-2d29-4365-ed45-c41c9a7c8e06",
        "colab": {
          "base_uri": "https://localhost:8080/",
          "height": 34
        }
      },
      "cell_type": "code",
      "source": [
        "import os\n",
        "from pydrive.auth import GoogleAuth\n",
        "from pydrive.drive import GoogleDrive\n",
        "from google.colab import auth\n",
        "from oauth2client.client import GoogleCredentials\n",
        "import numpy as np\n",
        "\n",
        "import matplotlib.pyplot as plt\n",
        "from keras.utils import to_categorical\n"
      ],
      "execution_count": 0,
      "outputs": [
        {
          "output_type": "stream",
          "text": [
            "Using TensorFlow backend.\n"
          ],
          "name": "stderr"
        }
      ]
    },
    {
      "metadata": {
        "id": "93RDetpiWyH4",
        "colab_type": "code",
        "colab": {}
      },
      "cell_type": "code",
      "source": [
        "auth.authenticate_user()\n",
        "gauth = GoogleAuth()\n",
        "gauth.credentials = GoogleCredentials.get_application_default()\n",
        "drive = GoogleDrive(gauth)"
      ],
      "execution_count": 0,
      "outputs": []
    },
    {
      "metadata": {
        "id": "hLJVB49pYNac",
        "colab_type": "code",
        "outputId": "fcf64e47-9121-420f-f3e3-2268f116aa92",
        "colab": {
          "base_uri": "https://localhost:8080/",
          "height": 122
        }
      },
      "cell_type": "code",
      "source": [
        "# Import the corpus data\n",
        "\n",
        "from google.colab import drive\n",
        "\n",
        "drive.mount('/content/drive/')"
      ],
      "execution_count": 0,
      "outputs": [
        {
          "output_type": "stream",
          "text": [
            "Go to this URL in a browser: https://accounts.google.com/o/oauth2/auth?client_id=947318989803-6bn6qk8qdgf4n4g3pfee6491hc0brc4i.apps.googleusercontent.com&redirect_uri=urn%3Aietf%3Awg%3Aoauth%3A2.0%3Aoob&scope=email%20https%3A%2F%2Fwww.googleapis.com%2Fauth%2Fdocs.test%20https%3A%2F%2Fwww.googleapis.com%2Fauth%2Fdrive%20https%3A%2F%2Fwww.googleapis.com%2Fauth%2Fdrive.photos.readonly%20https%3A%2F%2Fwww.googleapis.com%2Fauth%2Fpeopleapi.readonly&response_type=code\n",
            "\n",
            "Enter your authorization code:\n",
            "··········\n",
            "Mounted at /content/drive/\n"
          ],
          "name": "stdout"
        }
      ]
    },
    {
      "metadata": {
        "id": "9QPlgUj4YRiC",
        "colab_type": "code",
        "outputId": "7af0ec21-cd06-49ef-c486-f7a457a566b0",
        "colab": {
          "base_uri": "https://localhost:8080/",
          "height": 102
        }
      },
      "cell_type": "code",
      "source": [
        "# !ls \"/content/drive/My Drive/accent-classification-corpora\"\n",
        "\n",
        "# librispeech_path = '/content/drive/My Drive/accent-classification-corpora/librispeech'\n",
        "# librispeech_preprocessed_path = '/content/drive/My Drive/accent-classification-corpora/librispeech_preprocessed'\n",
        "# librit_path = '/content/drive/My Drive/accent-classification-corpora/librit'\n",
        "# librit_preprocessed_path = '/content/drive/My Drive/accent-classification-corpora/librit_preprocessed'\n",
        "\n"
      ],
      "execution_count": 0,
      "outputs": [
        {
          "output_type": "stream",
          "text": [
            "flat_formants.pickle  librispeech_mfcc\t\tlibrit_preprocessed\n",
            "flat_mfcc.pickle      librispeech_preprocessed\tlogging\n",
            "formants_rnn.h5       librit\t\t\tmfcc_rnn.h5\n",
            "librispeech\t      librit_formants\t\tseq_formants.pickle\n",
            "librispeech_formants  librit_mfcc\t\tseq_mfcc.pickle\n"
          ],
          "name": "stdout"
        }
      ]
    },
    {
      "metadata": {
        "id": "7efRbNFeYpkW",
        "colab_type": "code",
        "colab": {}
      },
      "cell_type": "code",
      "source": [
        "#load spectrogram\n",
        "#librispeech_spectrogram_path = \"/content/drive/My Drive/accent-classification-corpora/librispeech_spectrogram_newpickle\"\n",
        "#librit_spectrogram_path = \"/content/drive/My Drive/accent-classification-corpora/librit_spectrogram_newpickle\"\n",
        "\n",
        "\n",
        "# old pickles\n",
        "#librispeech_spectrogram_path = \"/content/drive/My Drive/librispeech_hdpickle\"\n",
        "#librit_spectrogram_path = \"/content/drive/My Drive/librit_hdpickle\"\n",
        "\n",
        "\n",
        "# new 1 sec pickles\n",
        "# librispeech_spectrogram_path = \"/content/drive/My Drive/librispeech_1sec_hdpickle\"\n",
        "# librit_spectrogram_path = \"/content/drive/My Drive/librit_1sec_hdpickle\"\n"
      ],
      "execution_count": 0,
      "outputs": []
    },
    {
      "metadata": {
        "id": "3ZIdFya3Yp8P",
        "colab_type": "code",
        "colab": {}
      },
      "cell_type": "code",
      "source": [
        "import glob\n",
        "import pickle\n",
        "from sklearn.model_selection import GridSearchCV\n",
        "from keras.models import Sequential\n",
        "from keras.wrappers.scikit_learn import KerasClassifier\n",
        "from keras.optimizers import SGD\n",
        "from keras.layers import Dense, Dropout, Activation, Flatten\n",
        "from keras.layers import Conv2D, MaxPooling2D\n",
        "from keras.layers.convolutional import ZeroPadding2D\n",
        "from keras.layers.normalization import BatchNormalization\n",
        "from keras.models import load_model\n",
        "from keras.layers import LeakyReLU\n",
        "from keras.optimizers import Adam, Nadam\n",
        "import keras\n",
        "import random "
      ],
      "execution_count": 0,
      "outputs": []
    },
    {
      "metadata": {
        "id": "KryZ7lCiJhB4",
        "colab_type": "code",
        "outputId": "a8774bc3-d5e7-405d-a417-88b9d4336de2",
        "colab": {
          "base_uri": "https://localhost:8080/",
          "height": 51
        }
      },
      "cell_type": "code",
      "source": [
        "# folders = [librispeech_spectrogram_path, librit_spectrogram_path]\n",
        "# train_files = []\n",
        "# val_files = []\n",
        "\n",
        "# train_frac = 0.9\n",
        "\n",
        "# for file_path in folders:\n",
        "#   file_list = np.array(os.listdir(file_path))\n",
        "#   no_of_files = len(file_list)\n",
        "#   indicies = np.array(np.random.choice(no_of_files,no_of_files, replace=False))\n",
        "#   no_of_train_files = int(train_frac*no_of_files)\n",
        "#   train_files.append(np.array([file_path+'/'+i for i in file_list[indicies[0:no_of_train_files]]]))\n",
        "#   val_files.append(np.array([file_path+'/'+ i for i in file_list[indicies[no_of_train_files:]]]))\n",
        "#   print(file_path,' - train_files = ',no_of_train_files,', val files = ',no_of_files - no_of_train_files)"
      ],
      "execution_count": 0,
      "outputs": [
        {
          "output_type": "stream",
          "text": [
            "/content/drive/My Drive/librispeech_1sec_hdpickle  - train_files =  17527 , val files =  1948\n",
            "/content/drive/My Drive/librit_1sec_hdpickle  - train_files =  5481 , val files =  610\n"
          ],
          "name": "stdout"
        }
      ]
    },
    {
      "metadata": {
        "id": "jFf8YqJdlt-t",
        "colab_type": "code",
        "colab": {}
      },
      "cell_type": "code",
      "source": [
        "# train_all_files = np.concatenate((train_files[0],train_files[1]))\n",
        "# train_all_labels = np.concatenate((np.zeros(len(train_files[0])),np.ones(len(train_files[1]))))\n",
        "# len_train = len(train_all_labels)\n",
        "# indicies = np.array(np.random.choice(len_train,len_train, replace=False))\n",
        "# train_all_files = train_all_files[indicies]\n",
        "# train_all_labels = train_all_labels[indicies]\n",
        "\n",
        "# val_all_files = np.concatenate((val_files[0],val_files[1]))\n",
        "# val_all_labels = np.concatenate((np.zeros(len(val_files[0])),np.ones(len(val_files[1]))))\n",
        "# len_val = len(val_all_labels)\n",
        "# indicies = np.array(np.random.choice(len_val,len_val, replace=False))\n",
        "# val_all_files = val_all_files[indicies]\n",
        "# val_all_labels = val_all_labels[indicies]\n"
      ],
      "execution_count": 0,
      "outputs": []
    },
    {
      "metadata": {
        "id": "DC6ZTG6gHKGa",
        "colab_type": "code",
        "colab": {}
      },
      "cell_type": "code",
      "source": [
        "# read all the pickles\n",
        "\n",
        "def data_aggre(files, labels):\n",
        "  '''\n",
        "  futher cleanses\n",
        "  checks if dim = 66\n",
        "  \n",
        "  '''\n",
        "  \n",
        "  \n",
        "  nv_shape = (201, 66)\n",
        "  features = []\n",
        "  f_labels = []\n",
        "  \n",
        "  cnt = 0\n",
        "  for i in range(files.shape[0]):\n",
        "    file = files[i]\n",
        "    f_label = labels[i]\n",
        "    with open(file, 'rb') as jar:\n",
        "      data_file = pickle.load(jar)\n",
        "\n",
        "    #print(data_file['spectrum'].shape)  \n",
        "    if(data_file['spectrum'].shape[1] == 66):\n",
        "      cnt +=1\n",
        "      feature = data_file['spectrum'].reshape(nv_shape)\n",
        "      features.append(feature)\n",
        "      f_labels.append(f_label)\n",
        "  \n",
        "  features_shape = (cnt, 201, 66, 1)\n",
        "\n",
        "  features = np.array(features).reshape(features_shape) \n",
        "  f_labels = np.array(f_labels)\n",
        "  return features, f_labels"
      ],
      "execution_count": 0,
      "outputs": []
    },
    {
      "metadata": {
        "id": "z4zRaY04cNF_",
        "colab_type": "text"
      },
      "cell_type": "markdown",
      "source": [
        "# BEGIN: DO NOT RUN AGAIN!\n",
        "### instead of using the generator to generate one data point at a time, I am aggregating all of them before hand"
      ]
    },
    {
      "metadata": {
        "id": "poHJKeC_Sk_J",
        "colab_type": "code",
        "outputId": "603e1795-0057-49e2-e273-3c31fbe18068",
        "colab": {
          "base_uri": "https://localhost:8080/",
          "height": 85
        }
      },
      "cell_type": "code",
      "source": [
        "# import time\n",
        "# start_time = time.time()\n",
        "\n",
        "# print(val_all_files.shape)\n",
        "# x, y = data_aggre(val_all_files, val_all_labels)\n",
        "\n",
        "# print(\"--- %s seconds ---\" % (time.time() - start_time))\n",
        "\n",
        "# print(x.shape)\n",
        "# print(y.shape)\n",
        "\n"
      ],
      "execution_count": 0,
      "outputs": [
        {
          "output_type": "stream",
          "text": [
            "(2558,)\n",
            "--- 15.831647157669067 seconds ---\n",
            "(2552, 201, 66, 1)\n",
            "(2552,)\n"
          ],
          "name": "stdout"
        }
      ]
    },
    {
      "metadata": {
        "id": "wqbrn3rUcmuU",
        "colab_type": "code",
        "colab": {}
      },
      "cell_type": "code",
      "source": [
        "# this is redundent, i carries through my typo in the prev cell\n",
        "# shouldve made a function and rename to val and train in the end but whatev\n",
        "# x_val = x\n",
        "# y_val = y"
      ],
      "execution_count": 0,
      "outputs": []
    },
    {
      "metadata": {
        "id": "PNTLwI9LZAow",
        "colab_type": "code",
        "colab": {}
      },
      "cell_type": "code",
      "source": [
        "# pickle all the validation, extract form the specto dictionary\n",
        "\n",
        "# DATA_PATH = \"/content/drive/My Drive/cnn_proj_yvg_testing\"\n",
        "# with open(os.path.join(DATA_PATH, \"val_1_sec_hd_feature.pickle\"), 'wb') as jar:\n",
        "#     pickle.dump(x_val, jar, protocol=pickle.HIGHEST_PROTOCOL)\n",
        "\n",
        "# with open(os.path.join(DATA_PATH, \"val_1_sec_hd_label.pickle\"), 'wb') as jar:\n",
        "#     pickle.dump(y_val, jar, protocol=pickle.HIGHEST_PROTOCOL)\n"
      ],
      "execution_count": 0,
      "outputs": []
    },
    {
      "metadata": {
        "id": "3MQ-pT57cWu3",
        "colab_type": "code",
        "outputId": "251b82e1-1256-4438-dfe1-e3072afb89d8",
        "colab": {
          "base_uri": "https://localhost:8080/",
          "height": 85
        }
      },
      "cell_type": "code",
      "source": [
        "# import time\n",
        "# start_time = time.time()\n",
        "\n",
        "# print(train_all_files.shape)\n",
        "# x_train, y_train = data_aggre(train_all_files, train_all_labels)\n",
        "\n",
        "# print(\"--- %s seconds ---\" % (time.time() - start_time))\n",
        "\n",
        "# print(x_train.shape)\n",
        "# print(y_train.shape)\n"
      ],
      "execution_count": 0,
      "outputs": [
        {
          "output_type": "stream",
          "text": [
            "(23008,)\n",
            "--- 4376.73936009407 seconds ---\n",
            "(22960, 201, 66, 1)\n",
            "(22960,)\n"
          ],
          "name": "stdout"
        }
      ]
    },
    {
      "metadata": {
        "id": "G4op7MIoctPy",
        "colab_type": "code",
        "colab": {}
      },
      "cell_type": "code",
      "source": [
        "# pickle all the validation, extract form the specto dictionary\n",
        "\n",
        "\n",
        "# DATA_PATH = \"/content/drive/My Drive/cnn_proj_yvg_testing\"\n",
        "# with open(os.path.join(DATA_PATH, \"train_1_sec_hd_feature.pickle\"), 'wb') as jar:\n",
        "#     pickle.dump(x_train, jar, protocol=pickle.HIGHEST_PROTOCOL)\n",
        "\n",
        "# with open(os.path.join(DATA_PATH, \"train_1_sec_hd_label.pickle\"), 'wb') as jar:\n",
        "#     pickle.dump(y_train, jar, protocol=pickle.HIGHEST_PROTOCOL)"
      ],
      "execution_count": 0,
      "outputs": []
    },
    {
      "metadata": {
        "id": "9i_8nRO_WTMH",
        "colab_type": "text"
      },
      "cell_type": "markdown",
      "source": [
        "# END do not run again"
      ]
    },
    {
      "metadata": {
        "id": "eVxr3nPHLLg4",
        "colab_type": "code",
        "colab": {}
      },
      "cell_type": "code",
      "source": [
        "# load pickles\n",
        "DATA_PATH = \"/content/drive/My Drive/cnn_proj_yvg_testing\"\n",
        "with open(os.path.join(DATA_PATH, \"train_1_sec_hd_feature.pickle\"), 'rb') as jar:\n",
        "    x_train = pickle.load(jar)\n",
        "\n",
        "with open(os.path.join(DATA_PATH, \"train_1_sec_hd_label.pickle\"), 'rb') as jar:\n",
        "    y_train = pickle.load(jar)\n",
        "\n"
      ],
      "execution_count": 0,
      "outputs": []
    },
    {
      "metadata": {
        "id": "Ef0M0NAgLtuP",
        "colab_type": "code",
        "outputId": "5eae7242-ee11-4edc-f581-a96a68fc4eca",
        "colab": {
          "base_uri": "https://localhost:8080/",
          "height": 34
        }
      },
      "cell_type": "code",
      "source": [
        "with open(os.path.join(DATA_PATH, \"val_1_sec_hd_feature.pickle\"), 'rb') as jar:\n",
        "    x_val = pickle.load(jar)\n",
        "\n",
        "with open(os.path.join(DATA_PATH, \"val_1_sec_hd_label.pickle\"), 'rb') as jar:\n",
        "    y_val = pickle.load(jar)\n",
        "\n",
        "print(y_val.shape)"
      ],
      "execution_count": 0,
      "outputs": [
        {
          "output_type": "stream",
          "text": [
            "(2552,)\n"
          ],
          "name": "stdout"
        }
      ]
    },
    {
      "metadata": {
        "id": "laH5M__V3jp8",
        "colab_type": "text"
      },
      "cell_type": "markdown",
      "source": [
        "# BEGIN Only run ONCE per session!"
      ]
    },
    {
      "metadata": {
        "id": "BAZudVlFNXa1",
        "colab_type": "code",
        "colab": {}
      },
      "cell_type": "code",
      "source": [
        "\n",
        "\n",
        "# convert to one hot\n",
        "# note: only execute once! per session!\n",
        "y_val = np.reshape(y_val, (y_val.shape[0], -1))\n",
        "y_val = to_categorical(y_val)\n",
        "\n"
      ],
      "execution_count": 0,
      "outputs": []
    },
    {
      "metadata": {
        "id": "0xOYW9MQNXjn",
        "colab_type": "code",
        "colab": {}
      },
      "cell_type": "code",
      "source": [
        "\n",
        "# convert to one hot for training\n",
        "# note: only execute once!\n",
        "\n",
        "y_train = np.reshape(y_train, (y_train.shape[0], -1))\n",
        "y_train = to_categorical(y_train)\n"
      ],
      "execution_count": 0,
      "outputs": []
    },
    {
      "metadata": {
        "id": "Q5-n60gz3p0Q",
        "colab_type": "text"
      },
      "cell_type": "markdown",
      "source": [
        "# END: only run once per session"
      ]
    },
    {
      "metadata": {
        "id": "kr0FhiOveeKZ",
        "colab_type": "code",
        "outputId": "40bb5b55-e04b-451e-d4e0-629607424c3d",
        "colab": {
          "base_uri": "https://localhost:8080/",
          "height": 1547
        }
      },
      "cell_type": "code",
      "source": [
        "MODEL_PATH = \"/content/drive/My Drive/cnn_proj_yvg_testing/saved_models\"\n",
        "\n",
        "filepath = os.path.join(MODEL_PATH, \"weights-improvement-{epoch:02d}-{loss:.4f}.h5\")   \n",
        "callbacks_list = [  keras.callbacks.EarlyStopping(\n",
        "        monitor='val_acc', \n",
        "        patience= 10,\n",
        "        mode='max',\n",
        "        verbose=1),\n",
        "    keras.callbacks.ModelCheckpoint(filepath,\n",
        "        monitor='val_acc', \n",
        "        save_best_only=True, \n",
        "        mode='max',\n",
        "        verbose=0)\n",
        "]\n",
        "\n",
        "\n",
        "\n",
        "\n",
        "\n",
        "num_classes = 2\n",
        "test_label = np.array((0,1)).reshape(1,2)\n",
        "\n",
        "activation=\"relu\"\n",
        "\n",
        "model = Sequential()\n",
        "model.add(Conv2D(16, kernel_size=(4,4),activation='relu', input_shape=(201, 66,1),\n",
        "                 kernel_initializer=keras.initializers.glorot_normal(seed=None)))\n",
        "#model.add(BatchNormalization())\n",
        "\n",
        "model.add(MaxPooling2D(pool_size=(4,4), padding='SAME'))\n",
        "\n",
        "\n",
        "\n",
        "\n",
        "model.add(Conv2D(32, kernel_size=(4,4),strides=(1, 1), activation='relu', padding='SAME', \n",
        "                                 kernel_initializer=keras.initializers.glorot_normal(seed=None)))\n",
        "#model.add(MaxPooling2D(pool_size=(2,2), padding='SAME'))\n",
        "#model.add(BatchNormalization())\n",
        "\n",
        "model.add(Conv2D(32, kernel_size=(4,4),strides=(1, 1), activation='relu', padding='SAME',\n",
        "                                  kernel_initializer=keras.initializers.glorot_normal(seed=None)))\n",
        "model.add(MaxPooling2D(pool_size=(2,2), padding='SAME'))\n",
        "\n",
        "# model.add(Conv2D(32, kernel_size=(4,4),strides=(1, 1), activation='relu', padding='SAME',\n",
        "#                                   kernel_initializer=keras.initializers.glorot_normal(seed=None)))\n",
        "# model.add(MaxPooling2D(pool_size=(2,2), padding='SAME'))\n",
        "\n",
        "\n",
        "# model.add(Conv2D(32, kernel_size=(4,4),strides=(1, 1), activation='relu', padding='SAME',\n",
        "#                                   kernel_initializer=keras.initializers.glorot_normal(seed=None)))\n",
        "# model.add(BatchNormalization())\n",
        "\n",
        "\n",
        "# model.add(MaxPooling2D(pool_size=(4,4),  padding='SAME'))\n",
        "\n",
        "model.add(keras.layers.Dropout(0.5, noise_shape=None, seed=None))\n",
        "\n",
        "#model.add(Conv2D(128, kernel_size=(3,3),activation='relu'))\n",
        "model.add(Flatten())\n",
        "#model.add(Dense(50, activation='relu'))\n",
        "#model.add(Dense(64, activation='relu'))\n",
        "model.add(keras.layers.Dropout(0.5, noise_shape=None, seed=None))\n",
        "\n",
        "model.add(Dense(2, activation='softmax'))\n",
        "\n",
        "\n",
        "\n",
        "\n",
        "model.compile(loss=keras.losses.categorical_crossentropy,\n",
        "              optimizer=keras.optimizers.Nadam(lr = 0.001),\n",
        "              metrics=['accuracy'])\n",
        "\n",
        "\n",
        "\n",
        "model.summary()\n",
        "\n",
        "\n",
        "modelHist2 = model.fit(x_train, y_train, validation_data = (x_val, y_val),\n",
        "          batch_size=32, epochs=30, callbacks = callbacks_list)\n",
        "\n",
        "\n",
        "# model.fit_generator(train_generator(train_all_files[0:2],to_categorical(train_all_labels[0:2])), samples_per_epoch=1,\n",
        "#                     validation_data = val_generator(val_all_files[0:2],to_categorical(val_all_labels[0:2])),\n",
        "#                     nb_val_samples = 208, nb_epoch= 30,verbose = 1)\n",
        "\n",
        "#model.fit_generator(train_generator(train_all_files,to_categorical(train_all_labels)), samples_per_epoch=20, nb_epoch= 100,verbose = 1)\n"
      ],
      "execution_count": 0,
      "outputs": [
        {
          "output_type": "stream",
          "text": [
            "_________________________________________________________________\n",
            "Layer (type)                 Output Shape              Param #   \n",
            "=================================================================\n",
            "conv2d_37 (Conv2D)           (None, 198, 63, 16)       272       \n",
            "_________________________________________________________________\n",
            "max_pooling2d_37 (MaxPooling (None, 50, 16, 16)        0         \n",
            "_________________________________________________________________\n",
            "conv2d_38 (Conv2D)           (None, 50, 16, 32)        8224      \n",
            "_________________________________________________________________\n",
            "max_pooling2d_38 (MaxPooling (None, 25, 8, 32)         0         \n",
            "_________________________________________________________________\n",
            "batch_normalization_5 (Batch (None, 25, 8, 32)         128       \n",
            "_________________________________________________________________\n",
            "conv2d_39 (Conv2D)           (None, 25, 8, 32)         16416     \n",
            "_________________________________________________________________\n",
            "max_pooling2d_39 (MaxPooling (None, 13, 4, 32)         0         \n",
            "_________________________________________________________________\n",
            "dropout_23 (Dropout)         (None, 13, 4, 32)         0         \n",
            "_________________________________________________________________\n",
            "flatten_12 (Flatten)         (None, 1664)              0         \n",
            "_________________________________________________________________\n",
            "dropout_24 (Dropout)         (None, 1664)              0         \n",
            "_________________________________________________________________\n",
            "dense_18 (Dense)             (None, 2)                 3330      \n",
            "=================================================================\n",
            "Total params: 28,370\n",
            "Trainable params: 28,306\n",
            "Non-trainable params: 64\n",
            "_________________________________________________________________\n",
            "Train on 22960 samples, validate on 2552 samples\n",
            "Epoch 1/30\n",
            "22960/22960 [==============================] - 24s 1ms/step - loss: 0.5280 - acc: 0.7683 - val_loss: 0.4736 - val_acc: 0.7708\n",
            "Epoch 2/30\n",
            "22960/22960 [==============================] - 20s 867us/step - loss: 0.4497 - acc: 0.7922 - val_loss: 0.4317 - val_acc: 0.8029\n",
            "Epoch 3/30\n",
            "22960/22960 [==============================] - 20s 868us/step - loss: 0.4261 - acc: 0.8034 - val_loss: 0.4153 - val_acc: 0.8068\n",
            "Epoch 4/30\n",
            "22960/22960 [==============================] - 20s 864us/step - loss: 0.4063 - acc: 0.8124 - val_loss: 0.3979 - val_acc: 0.8115\n",
            "Epoch 5/30\n",
            "22960/22960 [==============================] - 20s 856us/step - loss: 0.3923 - acc: 0.8193 - val_loss: 0.4103 - val_acc: 0.8041\n",
            "Epoch 6/30\n",
            "22960/22960 [==============================] - 20s 857us/step - loss: 0.3849 - acc: 0.8260 - val_loss: 0.3865 - val_acc: 0.8213\n",
            "Epoch 7/30\n",
            "22960/22960 [==============================] - 20s 867us/step - loss: 0.3756 - acc: 0.8336 - val_loss: 0.3767 - val_acc: 0.8182\n",
            "Epoch 8/30\n",
            "22960/22960 [==============================] - 20s 853us/step - loss: 0.3626 - acc: 0.8387 - val_loss: 0.3767 - val_acc: 0.8201\n",
            "Epoch 9/30\n",
            "22960/22960 [==============================] - 20s 859us/step - loss: 0.3567 - acc: 0.8406 - val_loss: 0.3611 - val_acc: 0.8295\n",
            "Epoch 10/30\n",
            "22960/22960 [==============================] - 20s 861us/step - loss: 0.3481 - acc: 0.8480 - val_loss: 0.3610 - val_acc: 0.8346\n",
            "Epoch 11/30\n",
            "22960/22960 [==============================] - 20s 864us/step - loss: 0.3453 - acc: 0.8508 - val_loss: 0.3671 - val_acc: 0.8366\n",
            "Epoch 12/30\n",
            "22960/22960 [==============================] - 20s 862us/step - loss: 0.3352 - acc: 0.8571 - val_loss: 0.3507 - val_acc: 0.8323\n",
            "Epoch 13/30\n",
            "22960/22960 [==============================] - 20s 858us/step - loss: 0.3294 - acc: 0.8571 - val_loss: 0.3422 - val_acc: 0.8538\n",
            "Epoch 14/30\n",
            "22960/22960 [==============================] - 20s 869us/step - loss: 0.3309 - acc: 0.8571 - val_loss: 0.3888 - val_acc: 0.8437\n",
            "Epoch 15/30\n",
            "22960/22960 [==============================] - 20s 878us/step - loss: 0.3202 - acc: 0.8605 - val_loss: 0.3774 - val_acc: 0.8319\n",
            "Epoch 16/30\n",
            "22960/22960 [==============================] - 20s 864us/step - loss: 0.3147 - acc: 0.8634 - val_loss: 0.3604 - val_acc: 0.8362\n",
            "Epoch 17/30\n",
            "22960/22960 [==============================] - 20s 860us/step - loss: 0.3100 - acc: 0.8671 - val_loss: 0.3498 - val_acc: 0.8452\n",
            "Epoch 18/30\n",
            "22960/22960 [==============================] - 20s 861us/step - loss: 0.3102 - acc: 0.8711 - val_loss: 0.3425 - val_acc: 0.8409\n",
            "Epoch 19/30\n",
            "22960/22960 [==============================] - 20s 854us/step - loss: 0.3015 - acc: 0.8686 - val_loss: 0.3504 - val_acc: 0.8342\n",
            "Epoch 20/30\n",
            "22960/22960 [==============================] - 20s 861us/step - loss: 0.3001 - acc: 0.8744 - val_loss: 0.3701 - val_acc: 0.8515\n",
            "Epoch 21/30\n",
            "22960/22960 [==============================] - 20s 864us/step - loss: 0.2942 - acc: 0.8766 - val_loss: 0.3343 - val_acc: 0.8480\n",
            "Epoch 22/30\n",
            "22960/22960 [==============================] - 20s 867us/step - loss: 0.2962 - acc: 0.8777 - val_loss: 0.3356 - val_acc: 0.8605\n",
            "Epoch 23/30\n",
            "22960/22960 [==============================] - 20s 879us/step - loss: 0.2926 - acc: 0.8747 - val_loss: 0.3648 - val_acc: 0.8632\n",
            "Epoch 24/30\n",
            "22960/22960 [==============================] - 20s 864us/step - loss: 0.2889 - acc: 0.8796 - val_loss: 0.3165 - val_acc: 0.8699\n",
            "Epoch 25/30\n",
            "22960/22960 [==============================] - 20s 863us/step - loss: 0.2825 - acc: 0.8829 - val_loss: 0.3291 - val_acc: 0.8695\n",
            "Epoch 26/30\n",
            "22960/22960 [==============================] - 20s 860us/step - loss: 0.2817 - acc: 0.8831 - val_loss: 0.3347 - val_acc: 0.8679\n",
            "Epoch 27/30\n",
            "22960/22960 [==============================] - 20s 865us/step - loss: 0.2818 - acc: 0.8841 - val_loss: 0.3283 - val_acc: 0.8770\n",
            "Epoch 28/30\n",
            "22960/22960 [==============================] - 20s 872us/step - loss: 0.2690 - acc: 0.8871 - val_loss: 0.3278 - val_acc: 0.8503\n",
            "Epoch 29/30\n",
            "22960/22960 [==============================] - 20s 871us/step - loss: 0.2765 - acc: 0.8851 - val_loss: 0.3465 - val_acc: 0.8405\n",
            "Epoch 30/30\n",
            "22960/22960 [==============================] - 20s 870us/step - loss: 0.2753 - acc: 0.8860 - val_loss: 0.3323 - val_acc: 0.8589\n"
          ],
          "name": "stdout"
        }
      ]
    },
    {
      "metadata": {
        "id": "XyO8FDznW5M8",
        "colab_type": "code",
        "outputId": "b3bdf375-92d3-4a9e-c60f-fd6a294905a1",
        "colab": {
          "base_uri": "https://localhost:8080/",
          "height": 51
        }
      },
      "cell_type": "code",
      "source": [
        "from sklearn import metrics  \n",
        "\n",
        "y_pred = model.predict(x_val)\n",
        "matrix = metrics.confusion_matrix(y_val.argmax(axis=1), y_pred.argmax(axis=1))\n",
        "print(matrix)\n"
      ],
      "execution_count": 0,
      "outputs": [
        {
          "output_type": "stream",
          "text": [
            "[[1854   88]\n",
            " [ 272  338]]\n"
          ],
          "name": "stdout"
        }
      ]
    },
    {
      "metadata": {
        "id": "HGI6Kc_EXM9B",
        "colab_type": "code",
        "outputId": "3b919fa3-c94c-4a7c-ed48-859098b840e3",
        "colab": {
          "base_uri": "https://localhost:8080/",
          "height": 340
        }
      },
      "cell_type": "code",
      "source": [
        "# Now plot\n",
        "import matplotlib.pyplot as plt\n",
        "\n",
        "\n",
        "epochs = np.arange(0, 31, 2.0)\n",
        "\n",
        "\n",
        "plt.rcParams.update(plt.rcParamsDefault)\n",
        "%matplotlib inline\n",
        "plt.style.use('ggplot')\n",
        "plt.rcParams[\"figure.figsize\"] = (7,5)\n",
        "\n",
        "plt.plot(modelHist2.history['acc'], color='blue', linestyle='solid', label='Training accuracy')\n",
        "plt.plot(modelHist2.history['loss'], color='blue', linestyle='dashed', label='Training loss')\n",
        "\n",
        "plt.plot(modelHist2.history['val_acc'], color='red', linestyle='solid', label='Validation accuracy')\n",
        "plt.plot(modelHist2.history['val_loss'], color='red', linestyle='dashed', label='Validation loss')\n",
        "\n",
        "plt.xlabel('Number of epochs')\n",
        "plt.xticks(epochs)\n",
        "\n",
        "plt.ylabel('Classification accuracy (%) \\n / Cross-entropy loss')\n",
        "\n",
        "legend = plt.legend(frameon = 1)\n",
        "frame = legend.get_frame()\n",
        "frame.set_facecolor('white')\n",
        "frame.set_edgecolor('black')\n",
        "\n",
        "plt.show()"
      ],
      "execution_count": 0,
      "outputs": [
        {
          "output_type": "display_data",
          "data": {
            "image/png": "[encoded data removed]",
            "text/plain": [
              "<matplotlib.figure.Figure at 0x7f4b7f0c14a8>"
            ]
          },
          "metadata": {
            "tags": []
          }
        }
      ]
    },
    {
      "metadata": {
        "id": "fYf9nHXzkCLR",
        "colab_type": "code",
        "colab": {}
      },
      "cell_type": "code",
      "source": [
        "#data = next(train_generator(train_all_files,to_categorical(train_all_labels)))"
      ],
      "execution_count": 0,
      "outputs": []
    },
    {
      "metadata": {
        "id": "At-FyqdyTGNk",
        "colab_type": "code",
        "colab": {}
      },
      "cell_type": "code",
      "source": [
        "DATA_PATH = \"/content/drive/My Drive/cnn_proj_yvg_testing\"\n",
        "\n",
        "model.save(os.path.join(DATA_PATH, 'specto_hd_cnn_yvg_test_1sec_85_acc.h5'))"
      ],
      "execution_count": 0,
      "outputs": []
    },
    {
      "metadata": {
        "id": "37Yg99K7B-mu",
        "colab_type": "code",
        "colab": {}
      },
      "cell_type": "code",
      "source": [
        "\"\"\"from keras.models import Model\n",
        "intermediate_layer_model = Model(inputs=model.input,\n",
        "                                 outputs=model.get_layer('dense_43').output)\n",
        "data = next(train_generator(train_all_files,to_categorical(train_all_labels)))\n",
        "intermediate_output = intermediate_layer_model.predict(data[0])\n",
        "print(intermediate_output.shape)\n",
        "data = next(train_generator(train_all_files,to_categorical(train_all_labels)))\n",
        "intermediate_output = intermediate_layer_model.predict(data[0])\n",
        "print(intermediate_output)\n",
        "\"\"\""
      ],
      "execution_count": 0,
      "outputs": []
    },
    {
      "metadata": {
        "id": "RbmHrVVSYqNE",
        "colab_type": "code",
        "colab": {}
      },
      "cell_type": "code",
      "source": [
        "def prediction_generator(files):\n",
        "  nv_shape = (201, 66,1)\n",
        "  while True:\n",
        "    for file in files:\n",
        "      with open(file, 'rb') as jar:\n",
        "        data_file = pickle.load(jar)\n",
        "        reshaped_file = data_file['spectrum']\n",
        "        batch_features = np.array([reshaped_file[:,i*66:(i+1)*66].reshape(nv_shape) for i in range(24)])\n",
        "      yield batch_features\n",
        "\n",
        " \n",
        "\n",
        "  \n",
        "pred_0 = model.predict_generator(prediction_generator(val_all_files), steps=208,verbose=1)"
      ],
      "execution_count": 0,
      "outputs": []
    },
    {
      "metadata": {
        "id": "zoZgEcZRYqcu",
        "colab_type": "code",
        "colab": {}
      },
      "cell_type": "code",
      "source": [
        "from sklearn.metrics import confusion_matrix, classification_report\n",
        "\n",
        "def tile_val(labels):\n",
        "  new_labels = []\n",
        "  for label in labels:\n",
        "    label_list = [label]*12\n",
        "    new_labels.append(label_list)\n",
        "    \n",
        "  return np.array(new_labels).flatten()\n",
        "    \n",
        "    \n",
        "new_label_list = tile_val(val_all_labels)\n",
        "\n",
        "print(confusion_matrix(np.argmax(pred_0,axis = 1),new_label_list))\n",
        "print(classification_report(np.argmax(pred_0,axis = 1),new_label_list))\n",
        "\n"
      ],
      "execution_count": 0,
      "outputs": []
    },
    {
      "metadata": {
        "id": "Mm1yUUhzRaMg",
        "colab_type": "code",
        "colab": {}
      },
      "cell_type": "code",
      "source": [
        "from sklearn.decomposition import IncrementalPCA\n",
        "\n",
        "def prediction_generator(files):\n",
        "    for file in files:\n",
        "      with open(file, 'rb') as jar:\n",
        "        print(file)\n",
        "        data_file = pickle.load(jar)\n",
        "      yield data_file['spectrum']#.reshape(nv_shape)\n",
        "\n",
        "transformer = IncrementalPCA(n_components=7, batch_size=1)\n",
        "for x in prediction_generator(val_all_files):\n",
        "  transformer.partial_fit(x)"
      ],
      "execution_count": 0,
      "outputs": []
    },
    {
      "metadata": {
        "id": "3-DxlKCTScv1",
        "colab_type": "code",
        "colab": {}
      },
      "cell_type": "code",
      "source": [
        "x_transform = []\n",
        "for x in prediction_generator(val_all_files):\n",
        "  x_transform.append(transformer.transform(x))"
      ],
      "execution_count": 0,
      "outputs": []
    },
    {
      "metadata": {
        "id": "D3Z23EEfx6RT",
        "colab_type": "code",
        "colab": {}
      },
      "cell_type": "code",
      "source": [
        "from sklearn.linear_model import SGDClassifier\n",
        "\n",
        "clf = SGDClassifier(loss=\"hinge\", max_iter=5,warm_start=True,verbose = 2)\n",
        "for x,y in zip(x_transform,val_all_labels):\n",
        "  clf.partial_fit(x.reshape(1, -1),y,classes=[0,1])\n",
        "\n"
      ],
      "execution_count": 0,
      "outputs": []
    },
    {
      "metadata": {
        "id": "3s7kUodwSVdL",
        "colab_type": "code",
        "colab": {}
      },
      "cell_type": "code",
      "source": [
        "from sklearn.linear_model import LogisticRegression"
      ],
      "execution_count": 0,
      "outputs": []
    },
    {
      "metadata": {
        "id": "d3g4lDFaIcGe",
        "colab_type": "code",
        "colab": {}
      },
      "cell_type": "code",
      "source": [
        "class LogReg():\n",
        "  def __init__(self):\n",
        "    self.Talg=0\n",
        "  def train(self,data_train,labels_train):\n",
        "    self.Talg=LogisticRegression()\n",
        "    self.Talg=self.Talg.fit(data_train,labels_train)\n",
        "  def test(self,data_test,labels_predict):\n",
        "    self.labels_predict=self.Talg.predict(data_test)\n",
        "    self.accuracy=accuracy_score(labels_test,self.labels_predict)\n",
        "    return self.accuracy, self.labels_predict\n",
        "  \n",
        "a=LogReg()\n",
        "a.train()\n",
        "accuracy,prediction=a.test()\n",
        "  "
      ],
      "execution_count": 0,
      "outputs": []
    },
    {
      "metadata": {
        "id": "Wi46JD1ihh8Y",
        "colab_type": "code",
        "colab": {}
      },
      "cell_type": "code",
      "source": [
        "!ls /content/drive/My\\ Drive/librit_preprocessed_1sec/*.wav | wc -l"
      ],
      "execution_count": 0,
      "outputs": []
    },
    {
      "metadata": {
        "id": "TE2WLb_nhr4T",
        "colab_type": "code",
        "colab": {}
      },
      "cell_type": "code",
      "source": [
        "!ls /content/drive/My\\ Drive/librispeech_preprocessed_1sec/*.wav | wc -l"
      ],
      "execution_count": 0,
      "outputs": []
    },
    {
      "metadata": {
        "id": "TnZeRTJuhxZr",
        "colab_type": "code",
        "colab": {}
      },
      "cell_type": "code",
      "source": [
        "!ls /content/drive/My\\ Drive/librit_1sec_hdpickle/*.1sec_hdpickle | wc -l"
      ],
      "execution_count": 0,
      "outputs": []
    },
    {
      "metadata": {
        "id": "MfshZQywh7yD",
        "colab_type": "code",
        "colab": {}
      },
      "cell_type": "code",
      "source": [
        ""
      ],
      "execution_count": 0,
      "outputs": []
    }
  ]
}