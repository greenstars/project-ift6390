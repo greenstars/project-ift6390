{
 "cells": [
  {
   "cell_type": "code",
   "execution_count": null,
   "metadata": {},
   "outputs": [],
   "source": [
    "import os\n",
    "import numpy as np\n",
    "\n",
    "import matplotlib.pyplot as plt\n",
    "from keras.utils import to_categorical\n"
   ]
  },
  {
   "cell_type": "code",
   "execution_count": 16,
   "metadata": {},
   "outputs": [],
   "source": [
    "import glob\n",
    "import pickle\n",
    "from sklearn.model_selection import GridSearchCV\n",
    "from keras.models import Sequential\n",
    "from keras.wrappers.scikit_learn import KerasClassifier\n",
    "from keras.optimizers import SGD\n",
    "from keras.layers import Dense, Dropout, Activation, Flatten\n",
    "from keras.layers import Conv2D, MaxPooling2D\n",
    "from keras.layers.convolutional import ZeroPadding2D\n",
    "from keras.layers.normalization import BatchNormalization\n",
    "from keras.models import load_model\n",
    "from keras.layers import LeakyReLU\n",
    "from keras.optimizers import Adam, Nadam\n",
    "import keras\n",
    "import random \n",
    "from sklearn import metrics  \n"
   ]
  },
  {
   "cell_type": "code",
   "execution_count": 17,
   "metadata": {},
   "outputs": [
    {
     "name": "stdout",
     "output_type": "stream",
     "text": [
      "cnn_proj_yvg_testing\t       specto_hd_cnn_yvg_test_1sec_85_acc.h5\r\n",
      "final_cnn.ipynb\t\t       specto_hd_cnn_yvg_test_1sec_90_acc.h5\r\n",
      "librispeech_1sec_hdpickle      specto_hd_cnn_yvg_test_1sec_91_acc.h5\r\n",
      "librispeech_1sec_hdpickle.zip  specto_hd_cnn_yvg_test_final_acc.h5\r\n",
      "librit_1sec_hdpickle\t       val_acc_87_30_epoches_copy.h5\r\n",
      "librit_1sec_hdpickle.zip       val_acc_87_30_epoches.h5\r\n"
     ]
    }
   ],
   "source": [
    "!ls"
   ]
  },
  {
   "cell_type": "code",
   "execution_count": null,
   "metadata": {},
   "outputs": [],
   "source": []
  },
  {
   "cell_type": "markdown",
   "metadata": {},
   "source": [
    "# the *hopefully* final pickles are pickled locally\n",
    "## we only load them here\n",
    "## refer to `repickle_all_final.py` on Github for the source code for final pickle\n",
    "Note: final pickle pulls the 'spectrum' key of all the `.1sec_hdpickles` and aggregates them"
   ]
  },
  {
   "cell_type": "code",
   "execution_count": 18,
   "metadata": {},
   "outputs": [],
   "source": [
    "def valLoad():\n",
    "    DATA_PATH = \"cnn_proj_yvg_testing\"\n",
    "\n",
    "    with open(os.path.join(DATA_PATH, \"val_1_sec_hd_feature.pickle\"), 'rb') as jar:\n",
    "        x_val = pickle.load(jar)\n",
    "\n",
    "    with open(os.path.join(DATA_PATH, \"val_1_sec_hd_label.pickle\"), 'rb') as jar:\n",
    "        y_val = pickle.load(jar)\n",
    "\n",
    "    print(y_val.shape)\n",
    "    \n",
    "    # convert to one hot\n",
    "    # note: only execute once! per session!\n",
    "    y_val = np.reshape(y_val, (y_val.shape[0], -1))\n",
    "    y_val = to_categorical(y_val)\n",
    "    print(y_val.shape)\n",
    "    \n",
    "    return x_val, y_val"
   ]
  },
  {
   "cell_type": "code",
   "execution_count": 19,
   "metadata": {},
   "outputs": [
    {
     "name": "stdout",
     "output_type": "stream",
     "text": [
      "saved_models  train_1_sec_hd_feature.pickle  val_1_sec_hd_feature.pickle\r\n",
      "subPickles    train_1_sec_hd_label.pickle    val_1_sec_hd_label.pickle\r\n"
     ]
    }
   ],
   "source": [
    "!ls cnn_proj_yvg_testing"
   ]
  },
  {
   "cell_type": "markdown",
   "metadata": {},
   "source": [
    "# SVM"
   ]
  },
  {
   "cell_type": "code",
   "execution_count": 20,
   "metadata": {},
   "outputs": [],
   "source": [
    "\n",
    "# x_train_svm = x_train.reshape(x_train.shape[0],x_train.shape[1]*x_train.shape[2] )\n",
    "\n",
    "\n",
    "# x_val_svm = x_val.reshape(x_val.shape[0],x_val.shape[1]*x_val.shape[2] )\n",
    "\n",
    "# print(x_train_svm.shape)"
   ]
  },
  {
   "cell_type": "code",
   "execution_count": 21,
   "metadata": {},
   "outputs": [],
   "source": [
    "# from sklearn import svm\n",
    "# from sklearn.metrics import accuracy_score\n",
    "\n",
    "# clf = svm.LinearSVC()\n",
    "# clf.fit(x_train_svm, y_train)\n",
    "# print(\"train\", clf.score(x_train_svm, y_train))\n",
    "# y_pred = clf.predict(x_val_svm)\n",
    "# score = accuracy_score(y_val, y_pred)\n",
    "# print(\"val \", score)"
   ]
  },
  {
   "cell_type": "code",
   "execution_count": 22,
   "metadata": {},
   "outputs": [],
   "source": [
    "# from sklearn.dummy import DummyClassifier\n",
    "\n",
    "# uniform = DummyClassifier(strategy='most_frequent', random_state=2)\n",
    "# uniform.fit(x_train_svm, y_train)\n",
    "\n",
    "# print(uniform.score(x_train_svm, y_train))\n",
    "\n",
    "# print(uniform.score(x_val_svm, y_val))"
   ]
  },
  {
   "cell_type": "markdown",
   "metadata": {},
   "source": [
    "# BEGIN Only run ONCE per session!\n",
    "## reshapes for the CNN"
   ]
  },
  {
   "cell_type": "code",
   "execution_count": 23,
   "metadata": {},
   "outputs": [],
   "source": [
    "\n",
    "\n",
    "# # convert to one hot\n",
    "# # note: only execute once! per session!\n",
    "# y_val = np.reshape(y_val, (y_val.shape[0], -1))\n",
    "# y_val = to_categorical(y_val)\n",
    "# print(y_val.shape)\n"
   ]
  },
  {
   "cell_type": "code",
   "execution_count": 24,
   "metadata": {},
   "outputs": [],
   "source": [
    "\n",
    "# # convert to one hot for training\n",
    "# # note: only execute once!\n",
    "\n",
    "# y_train = np.reshape(y_train, (y_train.shape[0], -1))\n",
    "# y_train = to_categorical(y_train)\n",
    "# print(y_train.shape)"
   ]
  },
  {
   "cell_type": "markdown",
   "metadata": {},
   "source": [
    "# END: only run once per session\n"
   ]
  },
  {
   "cell_type": "code",
   "execution_count": 25,
   "metadata": {},
   "outputs": [],
   "source": [
    "\n",
    "# new 1 sec pickles\n",
    "librispeech_spectrogram_path = \"librispeech_1sec_hdpickle\"\n",
    "librit_spectrogram_path = \"librit_1sec_hdpickle\"\n"
   ]
  },
  {
   "cell_type": "code",
   "execution_count": 26,
   "metadata": {},
   "outputs": [
    {
     "name": "stdout",
     "output_type": "stream",
     "text": [
      "cnn_proj_yvg_testing\t       specto_hd_cnn_yvg_test_1sec_85_acc.h5\r\n",
      "final_cnn.ipynb\t\t       specto_hd_cnn_yvg_test_1sec_90_acc.h5\r\n",
      "librispeech_1sec_hdpickle      specto_hd_cnn_yvg_test_1sec_91_acc.h5\r\n",
      "librispeech_1sec_hdpickle.zip  specto_hd_cnn_yvg_test_final_acc.h5\r\n",
      "librit_1sec_hdpickle\t       val_acc_87_30_epoches_copy.h5\r\n",
      "librit_1sec_hdpickle.zip       val_acc_87_30_epoches.h5\r\n"
     ]
    }
   ],
   "source": [
    "!ls"
   ]
  },
  {
   "cell_type": "code",
   "execution_count": 27,
   "metadata": {},
   "outputs": [],
   "source": [
    "# print(train_all_files)"
   ]
  },
  {
   "cell_type": "code",
   "execution_count": 43,
   "metadata": {},
   "outputs": [],
   "source": [
    "def modelConstruct():\n",
    "    model = Sequential()\n",
    "    \n",
    "    ###### conv layer 1 ######\n",
    "    model.add(Conv2D(32, kernel_size=(3,3), input_shape=(201, 66,1),\n",
    "                     kernel_initializer=keras.initializers.glorot_normal(),activation = 'tanh'))\n",
    "\n",
    "    keras.layers.BatchNormalization(axis = 0)\n",
    "    model.add(MaxPooling2D(pool_size=(4,4), padding='SAME'))\n",
    "\n",
    "    \n",
    "    ###### conv 2 ##########\n",
    "    model.add(Conv2D(32, kernel_size=(3,3), \n",
    "                                     kernel_initializer=keras.initializers.glorot_normal(seed=None),activation = 'tanh'))\n",
    "    keras.layers.BatchNormalization(axis = 0)\n",
    "    model.add(MaxPooling2D(pool_size=(2,2), padding='SAME'))\n",
    "\n",
    "    \n",
    "    ###### conv 3 ##########\n",
    "    model.add(Conv2D(32, kernel_size=(3,3),strides=(1, 1), padding='SAME', \n",
    "                                     kernel_initializer=keras.initializers.glorot_normal(seed=None),activation = 'tanh'))\n",
    "\n",
    "    #model.add(LeakyReLU(alpha=0.1))\n",
    "    keras.layers.BatchNormalization(axis = 0)\n",
    "    model.add(MaxPooling2D(pool_size=(2,2), padding='SAME'))\n",
    "    \n",
    "    ###### conv 4 ##########\n",
    "    model.add(Conv2D(32, kernel_size=(3,3),strides=(1, 1), padding='SAME', \n",
    "                                     kernel_initializer=keras.initializers.glorot_normal(seed=None),activation = 'tanh'))\n",
    "\n",
    "    #model.add(LeakyReLU(alpha=0.1))\n",
    "    keras.layers.BatchNormalization(axis = 0)\n",
    "    model.add(MaxPooling2D(pool_size=(2,2), padding='SAME'))\n",
    "    \n",
    "    ### Fully connected #######\n",
    "    model.add(Flatten())\n",
    "    #model.add(Dense(10, activation='relu'))\n",
    "    #model.add(Dense(64, activation=''relu'))\n",
    "\n",
    "    model.add(keras.layers.Dropout(0.2, noise_shape=None, seed=None))\n",
    "    model.add(Dense(2, activation='softmax'))\n",
    "    \n",
    "    # compile and return \n",
    "    model.compile(loss=keras.losses.categorical_crossentropy,\n",
    "                  optimizer=keras.optimizers.RMSprop(lr = 0.001),\n",
    "                  metrics=['accuracy'])\n",
    "    return model"
   ]
  },
  {
   "cell_type": "code",
   "execution_count": 29,
   "metadata": {},
   "outputs": [],
   "source": [
    "\n",
    "def imNorm(arr):\n",
    "    for i in range(arr.shape[0]):\n",
    "\n",
    "        arr[i] -= np.min(arr[i])\n",
    "        arr[i] = np.minimum(arr[i], 255)\n",
    "    return arr"
   ]
  },
  {
   "cell_type": "code",
   "execution_count": 44,
   "metadata": {},
   "outputs": [
    {
     "name": "stdout",
     "output_type": "stream",
     "text": [
      "_________________________________________________________________\n",
      "Layer (type)                 Output Shape              Param #   \n",
      "=================================================================\n",
      "conv2d_9 (Conv2D)            (None, 199, 64, 32)       320       \n",
      "_________________________________________________________________\n",
      "max_pooling2d_9 (MaxPooling2 (None, 50, 16, 32)        0         \n",
      "_________________________________________________________________\n",
      "conv2d_10 (Conv2D)           (None, 48, 14, 32)        9248      \n",
      "_________________________________________________________________\n",
      "max_pooling2d_10 (MaxPooling (None, 24, 7, 32)         0         \n",
      "_________________________________________________________________\n",
      "conv2d_11 (Conv2D)           (None, 24, 7, 32)         9248      \n",
      "_________________________________________________________________\n",
      "max_pooling2d_11 (MaxPooling (None, 12, 4, 32)         0         \n",
      "_________________________________________________________________\n",
      "conv2d_12 (Conv2D)           (None, 12, 4, 32)         9248      \n",
      "_________________________________________________________________\n",
      "max_pooling2d_12 (MaxPooling (None, 6, 2, 32)          0         \n",
      "_________________________________________________________________\n",
      "flatten_3 (Flatten)          (None, 384)               0         \n",
      "_________________________________________________________________\n",
      "dropout_3 (Dropout)          (None, 384)               0         \n",
      "_________________________________________________________________\n",
      "dense_3 (Dense)              (None, 2)                 770       \n",
      "=================================================================\n",
      "Total params: 28,834\n",
      "Trainable params: 28,834\n",
      "Non-trainable params: 0\n",
      "_________________________________________________________________\n",
      "training on pickle x_train_splitted0.pickle\n",
      "Train on 6795 samples, validate on 756 samples\n",
      "Epoch 1/10\n",
      "6795/6795 [==============================] - 4s 618us/step - loss: 0.6522 - acc: 0.6250 - val_loss: 0.5469 - val_acc: 0.7222\n",
      "Epoch 2/10\n",
      "6795/6795 [==============================] - 3s 481us/step - loss: 0.4965 - acc: 0.7582 - val_loss: 0.4428 - val_acc: 0.8003\n",
      "Epoch 3/10\n",
      "6795/6795 [==============================] - 3s 478us/step - loss: 0.4192 - acc: 0.8054 - val_loss: 0.4097 - val_acc: 0.8029\n",
      "Epoch 4/10\n",
      "6795/6795 [==============================] - 3s 476us/step - loss: 0.3698 - acc: 0.8346 - val_loss: 0.3417 - val_acc: 0.8479\n",
      "Epoch 5/10\n",
      "6795/6795 [==============================] - 3s 477us/step - loss: 0.3209 - acc: 0.8636 - val_loss: 0.3211 - val_acc: 0.8519\n",
      "Epoch 6/10\n",
      "6795/6795 [==============================] - 3s 476us/step - loss: 0.2734 - acc: 0.8871 - val_loss: 0.3074 - val_acc: 0.8704\n",
      "Epoch 7/10\n",
      "6795/6795 [==============================] - 3s 472us/step - loss: 0.2401 - acc: 0.9026 - val_loss: 0.2840 - val_acc: 0.8743\n",
      "Epoch 8/10\n",
      "6795/6795 [==============================] - 3s 474us/step - loss: 0.2128 - acc: 0.9170 - val_loss: 0.3602 - val_acc: 0.8426\n",
      "Epoch 9/10\n",
      "6795/6795 [==============================] - 3s 473us/step - loss: 0.1797 - acc: 0.9317 - val_loss: 0.2830 - val_acc: 0.8730\n",
      "Epoch 10/10\n",
      "6795/6795 [==============================] - 3s 471us/step - loss: 0.1555 - acc: 0.9386 - val_loss: 0.2380 - val_acc: 0.9021\n",
      "training on pickle x_train_splitted1.pickle\n",
      "Train on 6795 samples, validate on 756 samples\n",
      "Epoch 1/10\n",
      "6795/6795 [==============================] - 3s 474us/step - loss: 0.3663 - acc: 0.8540 - val_loss: 0.3512 - val_acc: 0.8505\n",
      "Epoch 2/10\n",
      "6795/6795 [==============================] - 3s 473us/step - loss: 0.2891 - acc: 0.8858 - val_loss: 0.3340 - val_acc: 0.8690\n",
      "Epoch 3/10\n",
      "6795/6795 [==============================] - 3s 481us/step - loss: 0.2306 - acc: 0.9096 - val_loss: 0.3105 - val_acc: 0.8796\n",
      "Epoch 4/10\n",
      "6795/6795 [==============================] - 3s 476us/step - loss: 0.1956 - acc: 0.9216 - val_loss: 0.2661 - val_acc: 0.8981\n",
      "Epoch 5/10\n",
      "6795/6795 [==============================] - 3s 483us/step - loss: 0.1698 - acc: 0.9336 - val_loss: 0.3097 - val_acc: 0.8810\n",
      "Epoch 6/10\n",
      "6795/6795 [==============================] - 3s 480us/step - loss: 0.1438 - acc: 0.9423 - val_loss: 0.2900 - val_acc: 0.8902\n",
      "Epoch 7/10\n",
      "6795/6795 [==============================] - 3s 481us/step - loss: 0.1222 - acc: 0.9535 - val_loss: 0.3492 - val_acc: 0.8690\n",
      "Epoch 8/10\n",
      "6795/6795 [==============================] - 3s 487us/step - loss: 0.1107 - acc: 0.9554 - val_loss: 0.3021 - val_acc: 0.9048\n",
      "Epoch 9/10\n",
      "6795/6795 [==============================] - 3s 486us/step - loss: 0.0991 - acc: 0.9611 - val_loss: 0.3139 - val_acc: 0.9021\n",
      "Epoch 10/10\n",
      "6795/6795 [==============================] - 3s 485us/step - loss: 0.0839 - acc: 0.9678 - val_loss: 0.2941 - val_acc: 0.9034\n",
      "training on pickle x_train_splitted2.pickle\n",
      "Train on 6795 samples, validate on 756 samples\n",
      "Epoch 1/10\n",
      "6795/6795 [==============================] - 3s 477us/step - loss: 0.3070 - acc: 0.8898 - val_loss: 0.4061 - val_acc: 0.8466\n",
      "Epoch 2/10\n",
      "6795/6795 [==============================] - 3s 488us/step - loss: 0.2366 - acc: 0.9051 - val_loss: 0.3811 - val_acc: 0.8598\n",
      "Epoch 3/10\n",
      "6795/6795 [==============================] - 3s 488us/step - loss: 0.1837 - acc: 0.9266 - val_loss: 0.3025 - val_acc: 0.8783\n",
      "Epoch 4/10\n",
      "6795/6795 [==============================] - 3s 472us/step - loss: 0.1502 - acc: 0.9422 - val_loss: 0.2781 - val_acc: 0.8981\n",
      "Epoch 5/10\n",
      "6795/6795 [==============================] - 3s 478us/step - loss: 0.1336 - acc: 0.9460 - val_loss: 0.2979 - val_acc: 0.8968\n",
      "Epoch 6/10\n",
      "6795/6795 [==============================] - 3s 482us/step - loss: 0.1114 - acc: 0.9550 - val_loss: 0.2540 - val_acc: 0.9101\n",
      "Epoch 7/10\n",
      "6795/6795 [==============================] - 3s 476us/step - loss: 0.0990 - acc: 0.9619 - val_loss: 0.2710 - val_acc: 0.9101\n",
      "Epoch 8/10\n",
      "6795/6795 [==============================] - 3s 470us/step - loss: 0.0825 - acc: 0.9673 - val_loss: 0.2677 - val_acc: 0.9008\n",
      "Epoch 9/10\n",
      "6795/6795 [==============================] - 3s 478us/step - loss: 0.0757 - acc: 0.9714 - val_loss: 0.3011 - val_acc: 0.9034\n",
      "Epoch 10/10\n",
      "6795/6795 [==============================] - 3s 485us/step - loss: 0.0597 - acc: 0.9773 - val_loss: 0.3461 - val_acc: 0.8876\n",
      "training on pickle x_train_splitted3.pickle\n",
      "Train on 6795 samples, validate on 755 samples\n",
      "Epoch 1/10\n",
      "6795/6795 [==============================] - 3s 474us/step - loss: 0.3008 - acc: 0.8987 - val_loss: 0.3063 - val_acc: 0.8914\n",
      "Epoch 2/10\n",
      "6795/6795 [==============================] - 3s 469us/step - loss: 0.2187 - acc: 0.9186 - val_loss: 0.2681 - val_acc: 0.9060\n",
      "Epoch 3/10\n",
      "6795/6795 [==============================] - 3s 472us/step - loss: 0.1546 - acc: 0.9394 - val_loss: 0.2933 - val_acc: 0.8808\n",
      "Epoch 4/10\n",
      "6795/6795 [==============================] - 3s 479us/step - loss: 0.1418 - acc: 0.9429 - val_loss: 0.2066 - val_acc: 0.9232\n",
      "Epoch 5/10\n",
      "6795/6795 [==============================] - 3s 472us/step - loss: 0.1151 - acc: 0.9539 - val_loss: 0.2456 - val_acc: 0.9245\n",
      "Epoch 6/10\n",
      "6795/6795 [==============================] - 3s 479us/step - loss: 0.0982 - acc: 0.9617 - val_loss: 0.2167 - val_acc: 0.9113\n",
      "Epoch 7/10\n",
      "6795/6795 [==============================] - 3s 489us/step - loss: 0.0788 - acc: 0.9710 - val_loss: 0.2827 - val_acc: 0.8980\n",
      "Epoch 8/10\n",
      "6795/6795 [==============================] - 3s 498us/step - loss: 0.0722 - acc: 0.9723 - val_loss: 0.2314 - val_acc: 0.9285\n",
      "Epoch 9/10\n",
      "6795/6795 [==============================] - 3s 498us/step - loss: 0.0623 - acc: 0.9762 - val_loss: 0.2198 - val_acc: 0.9351\n",
      "Epoch 10/10\n",
      "6795/6795 [==============================] - 3s 487us/step - loss: 0.0623 - acc: 0.9772 - val_loss: 0.2512 - val_acc: 0.9152\n",
      "training on pickle x_train_splitted4.pickle\n",
      "Train on 6795 samples, validate on 755 samples\n",
      "Epoch 1/10\n",
      "6795/6795 [==============================] - 3s 487us/step - loss: 0.2633 - acc: 0.9142 - val_loss: 0.1740 - val_acc: 0.9338\n",
      "Epoch 2/10\n",
      "6795/6795 [==============================] - 3s 486us/step - loss: 0.1956 - acc: 0.9274 - val_loss: 0.2020 - val_acc: 0.9232\n",
      "Epoch 3/10\n",
      "6795/6795 [==============================] - 3s 480us/step - loss: 0.1372 - acc: 0.9470 - val_loss: 0.1937 - val_acc: 0.9311\n",
      "Epoch 4/10\n",
      "6795/6795 [==============================] - 3s 483us/step - loss: 0.1178 - acc: 0.9529 - val_loss: 0.1570 - val_acc: 0.9391\n",
      "Epoch 5/10\n",
      "6795/6795 [==============================] - 3s 489us/step - loss: 0.0989 - acc: 0.9611 - val_loss: 0.1346 - val_acc: 0.9523\n",
      "Epoch 6/10\n",
      "6795/6795 [==============================] - 3s 492us/step - loss: 0.0740 - acc: 0.9728 - val_loss: 0.1892 - val_acc: 0.9430\n",
      "Epoch 7/10\n",
      "6795/6795 [==============================] - 3s 479us/step - loss: 0.0782 - acc: 0.9688 - val_loss: 0.2161 - val_acc: 0.9298\n",
      "Epoch 8/10\n",
      "6795/6795 [==============================] - 3s 474us/step - loss: 0.0663 - acc: 0.9740 - val_loss: 0.1850 - val_acc: 0.9417\n",
      "Epoch 9/10\n",
      "6795/6795 [==============================] - 3s 476us/step - loss: 0.0540 - acc: 0.9788 - val_loss: 0.2376 - val_acc: 0.9258\n",
      "Epoch 10/10\n",
      "6795/6795 [==============================] - 3s 477us/step - loss: 0.0504 - acc: 0.9812 - val_loss: 0.1717 - val_acc: 0.9457\n"
     ]
    }
   ],
   "source": [
    "MODEL_PATH = \"cnn_proj_yvg_testing/saved_models\"\n",
    "\n",
    "filepath = os.path.join(MODEL_PATH, \"weights-improvement-{epoch:02d}-{loss:.4f}.h5\")   \n",
    "callbacks_list = [  keras.callbacks.EarlyStopping(\n",
    "        monitor='val_acc', \n",
    "        patience= 10,\n",
    "        mode='max',\n",
    "        verbose=1),\n",
    "    keras.callbacks.ModelCheckpoint(filepath,\n",
    "        monitor='val_acc', \n",
    "        save_best_only=True, \n",
    "        mode='max',\n",
    "        verbose=0)\n",
    "]\n",
    "\n",
    "\n",
    "model = modelConstruct()\n",
    "model.summary()\n",
    "\n",
    "#############################################\n",
    "# Use chunck loading the train data\n",
    "#############################################\n",
    "# load one chunck of x_train\n",
    "\n",
    "# global count of which chunck we read\n",
    "modelHistArr = []\n",
    "file_path = \"cnn_proj_yvg_testing/subPickles\"\n",
    "for i in range(5):\n",
    "    # load features \n",
    "    x_name = 'x_train_splitted' + str(i) + '.pickle'\n",
    "    file_name = os.path.join(file_path, x_name) \n",
    "    print(\"training on pickle\", x_name)\n",
    "    with open(file_name, 'rb') as jar:\n",
    "        x_train = pickle.load(jar)\n",
    "    x_train = imNorm(x_train)\n",
    "    \n",
    "    y_name = 'y_train_splitted' + str(i) + '.pickle'\n",
    "    file_name = os.path.join(file_path, y_name)\n",
    "    with open(file_name, 'rb') as jar:\n",
    "        y_train = pickle.load(jar)\n",
    "\n",
    "    y_train = to_categorical(y_train, num_classes = 2)\n",
    "    modelHist2 = model.fit(x_train, y_train, validation_split = 0.1,\n",
    "          batch_size=32, epochs=10, callbacks = callbacks_list)\n",
    "    modelHistArr.append(modelHist2)\n",
    "\n",
    "\n"
   ]
  },
  {
   "cell_type": "code",
   "execution_count": 31,
   "metadata": {},
   "outputs": [
    {
     "name": "stdout",
     "output_type": "stream",
     "text": [
      "(4196,)\n",
      "(4196, 2)\n"
     ]
    }
   ],
   "source": [
    "x_val, y_val = valLoad()\n",
    "from sklearn import metrics  \n",
    "x_val = imNorm(x_val)\n"
   ]
  },
  {
   "cell_type": "code",
   "execution_count": 45,
   "metadata": {},
   "outputs": [
    {
     "name": "stdout",
     "output_type": "stream",
     "text": [
      "[[1750  194]\n",
      " [ 117 2135]]\n"
     ]
    }
   ],
   "source": [
    "y_pred = model.predict(x_val)\n",
    "matrix = metrics.confusion_matrix(y_val.argmax(axis=1), y_pred.argmax(axis=1))\n",
    "print(matrix)\n",
    "socre = metrics.confusion_matrix\n",
    "\n"
   ]
  },
  {
   "cell_type": "code",
   "execution_count": 46,
   "metadata": {},
   "outputs": [
    {
     "name": "stdout",
     "output_type": "stream",
     "text": [
      "             precision    recall  f1-score   support\n",
      "\n",
      "          0   0.937333  0.900206  0.918394      1944\n",
      "          1   0.916702  0.948046  0.932111      2252\n",
      "\n",
      "avg / total   0.926260  0.925882  0.925756      4196\n",
      "\n"
     ]
    }
   ],
   "source": [
    "from sklearn.metrics import classification_report\n",
    "print(classification_report(y_val.argmax(axis=1), y_pred.argmax(axis=1), digits = 6))"
   ]
  },
  {
   "cell_type": "code",
   "execution_count": 47,
   "metadata": {},
   "outputs": [],
   "source": [
    "DATA_PATH = './'\n",
    "model.save(os.path.join(DATA_PATH, 'specto_hd_cnn_hyperTuned.h5'))"
   ]
  },
  {
   "cell_type": "code",
   "execution_count": 35,
   "metadata": {},
   "outputs": [],
   "source": [
    "\n",
    "#############################################\n",
    "# using the class based generator\n",
    "#############################################\n",
    "\n",
    "\n",
    "#no_of_train_files\n",
    "#num_val = no_of_files - no_of_train_files\n",
    "\n",
    "\n",
    "# modeHist2 = model.fit_generator(generator=training_generator,\n",
    "#                                 validation_data=validation_generator,\n",
    "#                                 callbacks = callbacks_list,\n",
    "#                      steps_per_epoch=no_of_train_files // params['batch_size'] ,\n",
    "#                                 epochs=5, validation_steps = no_of_val_files // params['batch_size']\n",
    "#                     )\n",
    "\n",
    "\n",
    "\n",
    "#############################################\n",
    "# use the infinite loop based generator\n",
    "#############################################\n",
    "# batch_size = 32\n",
    "\n",
    "# num_classes = 2\n",
    "# modelHist2 = model.fit_generator(generator=data_generator(train_all_files,train_all_labels),\n",
    "#                     validation_data=data_generator(val_all_files,val_all_labels),\n",
    "#                  callbacks = callbacks_list,\n",
    "#                 steps_per_epoch=no_of_train_files, \n",
    "#                 epochs=50, validation_steps = no_of_val_files)\n"
   ]
  },
  {
   "cell_type": "code",
   "execution_count": 48,
   "metadata": {},
   "outputs": [],
   "source": [
    "# consolidate arrray of model histories\n",
    "historyArr = {k: [] for k in ['acc', 'loss', 'val_acc', 'val_loss']}\n",
    "for i in range(len(modelHistArr)):\n",
    "    for k,v in historyArr.items():\n",
    "        v.extend(modelHistArr[i].history[k])\n",
    " \n",
    " "
   ]
  },
  {
   "cell_type": "code",
   "execution_count": 49,
   "metadata": {},
   "outputs": [
    {
     "data": {
      "image/png": "[encoded data removed]",
      "text/plain": [
       "<Figure size 504x360 with 1 Axes>"
      ]
     },
     "metadata": {},
     "output_type": "display_data"
    }
   ],
   "source": [
    "# Now plot\n",
    "import matplotlib.pyplot as plt\n",
    "\n",
    "\n",
    "epochs = np.arange(0, 50, 2.0)\n",
    "\n",
    "\n",
    "plt.rcParams.update(plt.rcParamsDefault)\n",
    "%matplotlib inline\n",
    "plt.style.use('ggplot')\n",
    "plt.rcParams[\"figure.figsize\"] = (7,5)\n",
    "\n",
    "plt.plot(historyArr['acc'], color='blue', linestyle='solid', label='Training accuracy')\n",
    "plt.plot(historyArr['loss'], color='blue', linestyle='dashed', label='Training loss')\n",
    "\n",
    "plt.plot(historyArr['val_acc'], color='red', linestyle='solid', label='Validation accuracy')\n",
    "plt.plot(historyArr['val_loss'], color='red', linestyle='dashed', label='Validation loss')\n",
    "\n",
    "plt.xlabel('Number of epochs')\n",
    "plt.xticks(epochs)\n",
    "\n",
    "plt.ylabel('Classification accuracy (%) \\n / Cross-entropy loss')\n",
    "\n",
    "legend = plt.legend(frameon = 1)\n",
    "frame = legend.get_frame()\n",
    "frame.set_facecolor('white')\n",
    "frame.set_edgecolor('black')\n",
    "\n",
    "plt.show()"
   ]
  },
  {
   "cell_type": "code",
   "execution_count": null,
   "metadata": {},
   "outputs": [],
   "source": []
  }
 ],
 "metadata": {
  "kernelspec": {
   "display_name": "Python 3",
   "language": "python",
   "name": "python3"
  },
  "language_info": {
   "codemirror_mode": {
    "name": "ipython",
    "version": 3
   },
   "file_extension": ".py",
   "mimetype": "text/x-python",
   "name": "python",
   "nbconvert_exporter": "python",
   "pygments_lexer": "ipython3",
   "version": "3.6.5"
  }
 },
 "nbformat": 4,
 "nbformat_minor": 2
}
