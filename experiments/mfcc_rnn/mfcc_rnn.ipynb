{
  "nbformat": 4,
  "nbformat_minor": 0,
  "metadata": {
    "colab": {
      "name": "mfcc_rnn.ipynb",
      "version": "0.3.2",
      "provenance": [],
      "collapsed_sections": []
    },
    "kernelspec": {
      "name": "python3",
      "display_name": "Python 3"
    },
    "accelerator": "GPU"
  },
  "cells": [
    {
      "metadata": {
        "id": "IIgIhJfVAxiI",
        "colab_type": "code",
        "outputId": "21c594b6-0773-4cd7-fc41-07e5fbbc4a36",
        "colab": {
          "base_uri": "https://localhost:8080/",
          "height": 364
        }
      },
      "cell_type": "code",
      "source": [
        "!pip install PyDrive\n"
      ],
      "execution_count": 0,
      "outputs": [
        {
          "output_type": "stream",
          "text": [
            "Collecting PyDrive\n",
            "\u001b[?25l  Downloading https://files.pythonhosted.org/packages/52/e0/0e64788e5dd58ce2d6934549676243dc69d982f198524be9b99e9c2a4fd5/PyDrive-1.3.1.tar.gz (987kB)\n",
            "\u001b[K    100% |████████████████████████████████| 993kB 7.6MB/s \n",
            "\u001b[?25hRequirement already satisfied: google-api-python-client>=1.2 in /usr/local/lib/python3.6/dist-packages (from PyDrive) (1.6.7)\n",
            "Requirement already satisfied: oauth2client>=4.0.0 in /usr/local/lib/python3.6/dist-packages (from PyDrive) (4.1.3)\n",
            "Requirement already satisfied: PyYAML>=3.0 in /usr/local/lib/python3.6/dist-packages (from PyDrive) (3.13)\n",
            "Requirement already satisfied: six<2dev,>=1.6.1 in /usr/local/lib/python3.6/dist-packages (from google-api-python-client>=1.2->PyDrive) (1.11.0)\n",
            "Requirement already satisfied: uritemplate<4dev,>=3.0.0 in /usr/local/lib/python3.6/dist-packages (from google-api-python-client>=1.2->PyDrive) (3.0.0)\n",
            "Requirement already satisfied: httplib2<1dev,>=0.9.2 in /usr/local/lib/python3.6/dist-packages (from google-api-python-client>=1.2->PyDrive) (0.11.3)\n",
            "Requirement already satisfied: pyasn1-modules>=0.0.5 in /usr/local/lib/python3.6/dist-packages (from oauth2client>=4.0.0->PyDrive) (0.2.2)\n",
            "Requirement already satisfied: pyasn1>=0.1.7 in /usr/local/lib/python3.6/dist-packages (from oauth2client>=4.0.0->PyDrive) (0.4.4)\n",
            "Requirement already satisfied: rsa>=3.1.4 in /usr/local/lib/python3.6/dist-packages (from oauth2client>=4.0.0->PyDrive) (4.0)\n",
            "Building wheels for collected packages: PyDrive\n",
            "  Running setup.py bdist_wheel for PyDrive ... \u001b[?25l-\b \b\\\b \bdone\n",
            "\u001b[?25h  Stored in directory: /root/.cache/pip/wheels/fa/d2/9a/d3b6b506c2da98289e5d417215ce34b696db856643bad779f4\n",
            "Successfully built PyDrive\n",
            "Installing collected packages: PyDrive\n",
            "Successfully installed PyDrive-1.3.1\n"
          ],
          "name": "stdout"
        }
      ]
    },
    {
      "metadata": {
        "id": "bpZUzpl8DK_g",
        "colab_type": "code",
        "outputId": "7e9ab88d-581d-4b64-cc66-14677ee0f8e8",
        "colab": {
          "base_uri": "https://localhost:8080/",
          "height": 389
        }
      },
      "cell_type": "code",
      "source": [
        "import os\n",
        "from pydrive.auth import GoogleAuth\n",
        "from pydrive.drive import GoogleDrive\n",
        "from google.colab import auth\n",
        "from oauth2client.client import GoogleCredentials\n",
        "import numpy as np\n"
      ],
      "execution_count": 0,
      "outputs": [
        {
          "output_type": "error",
          "ename": "ModuleNotFoundError",
          "evalue": "ignored",
          "traceback": [
            "\u001b[0;31m---------------------------------------------------------------------------\u001b[0m",
            "\u001b[0;31mModuleNotFoundError\u001b[0m                       Traceback (most recent call last)",
            "\u001b[0;32m<ipython-input-6-d9b3d03ac934>\u001b[0m in \u001b[0;36m<module>\u001b[0;34m()\u001b[0m\n\u001b[1;32m      1\u001b[0m \u001b[0;32mimport\u001b[0m \u001b[0mos\u001b[0m\u001b[0;34m\u001b[0m\u001b[0;34m\u001b[0m\u001b[0m\n\u001b[0;32m----> 2\u001b[0;31m \u001b[0;32mfrom\u001b[0m \u001b[0mpydrive\u001b[0m\u001b[0;34m.\u001b[0m\u001b[0mauth\u001b[0m \u001b[0;32mimport\u001b[0m \u001b[0mGoogleAuth\u001b[0m\u001b[0;34m\u001b[0m\u001b[0;34m\u001b[0m\u001b[0m\n\u001b[0m\u001b[1;32m      3\u001b[0m \u001b[0;32mfrom\u001b[0m \u001b[0mpydrive\u001b[0m\u001b[0;34m.\u001b[0m\u001b[0mdrive\u001b[0m \u001b[0;32mimport\u001b[0m \u001b[0mGoogleDrive\u001b[0m\u001b[0;34m\u001b[0m\u001b[0;34m\u001b[0m\u001b[0m\n\u001b[1;32m      4\u001b[0m \u001b[0;32mfrom\u001b[0m \u001b[0mgoogle\u001b[0m\u001b[0;34m.\u001b[0m\u001b[0mcolab\u001b[0m \u001b[0;32mimport\u001b[0m \u001b[0mauth\u001b[0m\u001b[0;34m\u001b[0m\u001b[0;34m\u001b[0m\u001b[0m\n\u001b[1;32m      5\u001b[0m \u001b[0;32mfrom\u001b[0m \u001b[0moauth2client\u001b[0m\u001b[0;34m.\u001b[0m\u001b[0mclient\u001b[0m \u001b[0;32mimport\u001b[0m \u001b[0mGoogleCredentials\u001b[0m\u001b[0;34m\u001b[0m\u001b[0;34m\u001b[0m\u001b[0m\n",
            "\u001b[0;31mModuleNotFoundError\u001b[0m: No module named 'pydrive'",
            "",
            "\u001b[0;31m---------------------------------------------------------------------------\u001b[0;32m\nNOTE: If your import is failing due to a missing package, you can\nmanually install dependencies using either !pip or !apt.\n\nTo view examples of installing some common dependencies, click the\n\"Open Examples\" button below.\n\u001b[0;31m---------------------------------------------------------------------------\u001b[0m\n"
          ]
        }
      ]
    },
    {
      "metadata": {
        "id": "VdY0PpgUDLs9",
        "colab_type": "code",
        "outputId": "5ab21e4a-73c0-4830-9ea8-ac1389190764",
        "colab": {
          "base_uri": "https://localhost:8080/",
          "height": 225
        }
      },
      "cell_type": "code",
      "source": [
        "auth.authenticate_user()\n",
        "gauth = GoogleAuth()\n",
        "gauth.credentials = GoogleCredentials.get_application_default()\n",
        "drive = GoogleDrive(gauth)"
      ],
      "execution_count": 0,
      "outputs": [
        {
          "output_type": "error",
          "ename": "NameError",
          "evalue": "ignored",
          "traceback": [
            "\u001b[0;31m---------------------------------------------------------------------------\u001b[0m",
            "\u001b[0;31mNameError\u001b[0m                                 Traceback (most recent call last)",
            "\u001b[0;32m<ipython-input-3-3254a9bed9fd>\u001b[0m in \u001b[0;36m<module>\u001b[0;34m()\u001b[0m\n\u001b[0;32m----> 1\u001b[0;31m \u001b[0mauth\u001b[0m\u001b[0;34m.\u001b[0m\u001b[0mauthenticate_user\u001b[0m\u001b[0;34m(\u001b[0m\u001b[0;34m)\u001b[0m\u001b[0;34m\u001b[0m\u001b[0;34m\u001b[0m\u001b[0m\n\u001b[0m\u001b[1;32m      2\u001b[0m \u001b[0mgauth\u001b[0m \u001b[0;34m=\u001b[0m \u001b[0mGoogleAuth\u001b[0m\u001b[0;34m(\u001b[0m\u001b[0;34m)\u001b[0m\u001b[0;34m\u001b[0m\u001b[0;34m\u001b[0m\u001b[0m\n\u001b[1;32m      3\u001b[0m \u001b[0mgauth\u001b[0m\u001b[0;34m.\u001b[0m\u001b[0mcredentials\u001b[0m \u001b[0;34m=\u001b[0m \u001b[0mGoogleCredentials\u001b[0m\u001b[0;34m.\u001b[0m\u001b[0mget_application_default\u001b[0m\u001b[0;34m(\u001b[0m\u001b[0;34m)\u001b[0m\u001b[0;34m\u001b[0m\u001b[0;34m\u001b[0m\u001b[0m\n\u001b[1;32m      4\u001b[0m \u001b[0mdrive\u001b[0m \u001b[0;34m=\u001b[0m \u001b[0mGoogleDrive\u001b[0m\u001b[0;34m(\u001b[0m\u001b[0mgauth\u001b[0m\u001b[0;34m)\u001b[0m\u001b[0;34m\u001b[0m\u001b[0;34m\u001b[0m\u001b[0m\n",
            "\u001b[0;31mNameError\u001b[0m: name 'auth' is not defined"
          ]
        }
      ]
    },
    {
      "metadata": {
        "id": "BuMad7IXwAt5",
        "colab_type": "code",
        "outputId": "7be76722-ff6c-45be-90e4-e9eab3fea012",
        "colab": {
          "base_uri": "https://localhost:8080/",
          "height": 128
        }
      },
      "cell_type": "code",
      "source": [
        "# Import the corpus data\n",
        "\n",
        "from google.colab import drive\n",
        "\n",
        "drive.mount('/content/drive/')"
      ],
      "execution_count": 0,
      "outputs": [
        {
          "output_type": "stream",
          "text": [
            "Go to this URL in a browser: https://accounts.google.com/o/oauth2/auth?client_id=947318989803-6bn6qk8qdgf4n4g3pfee6491hc0brc4i.apps.googleusercontent.com&redirect_uri=urn%3Aietf%3Awg%3Aoauth%3A2.0%3Aoob&scope=email%20https%3A%2F%2Fwww.googleapis.com%2Fauth%2Fdocs.test%20https%3A%2F%2Fwww.googleapis.com%2Fauth%2Fdrive%20https%3A%2F%2Fwww.googleapis.com%2Fauth%2Fdrive.photos.readonly%20https%3A%2F%2Fwww.googleapis.com%2Fauth%2Fpeopleapi.readonly&response_type=code\n",
            "\n",
            "Enter your authorization code:\n",
            "··········\n",
            "Mounted at /content/drive/\n"
          ],
          "name": "stdout"
        }
      ]
    },
    {
      "metadata": {
        "id": "5oUc5MaoXjfV",
        "colab_type": "code",
        "colab": {}
      },
      "cell_type": "code",
      "source": [
        "import pickle \n",
        "\n",
        "proj_dir = '/content/drive/My Drive/accent-classification-corpora/'"
      ],
      "execution_count": 0,
      "outputs": []
    },
    {
      "metadata": {
        "id": "gyfswoagZT6a",
        "colab_type": "code",
        "outputId": "933fdb06-304f-48c2-89cb-a85e791cb705",
        "colab": {
          "base_uri": "https://localhost:8080/",
          "height": 162
        }
      },
      "cell_type": "code",
      "source": [
        "!ls \"/content/drive/My Drive/accent-classification-corpora\"\n",
        "\n",
        "librispeech_path = '/content/drive/My Drive/accent-classification-corpora/librispeech'\n",
        "librispeech_preprocessed_path = '/content/drive/My Drive/accent-classification-corpora/librispeech_preprocessed'\n",
        "librit_path = '/content/drive/My Drive/accent-classification-corpora/librit'\n",
        "librit_preprocessed_path = '/content/drive/My Drive/accent-classification-corpora/librit_preprocessed'\n",
        "\n"
      ],
      "execution_count": 0,
      "outputs": [
        {
          "output_type": "stream",
          "text": [
            "flat_formants.pickle\t\t   librit_formants\n",
            "flat_mfcc.pickle\t\t   librit_mfcc\n",
            "librispeech\t\t\t   librit_preprocessed\n",
            "librispeech_formants\t\t   librit_spectrogram_newpickle\n",
            "librispeech_mfcc\t\t   logging\n",
            "librispeech_preprocessed\t   mfcc_rnn.h5\n",
            "librispeech_spectrogram_newpickle  seq_formants.pickle\n",
            "librit\t\t\t\t   seq_mfcc.pickle\n"
          ],
          "name": "stdout"
        }
      ]
    },
    {
      "metadata": {
        "id": "SAft2qQPHsRz",
        "colab_type": "code",
        "outputId": "3a85b86b-1c10-4114-d5f6-469711fe09cb",
        "colab": {
          "base_uri": "https://localhost:8080/",
          "height": 526
        }
      },
      "cell_type": "code",
      "source": [
        "# Load the MFCC data\n",
        "librispeech_mfcc_path = '/content/drive/My Drive/accent-classification-corpora/librispeech_mfcc'\n",
        "librit_mfcc_path = '/content/drive/My Drive/accent-classification-corpora/librit_mfcc'\n",
        "\n",
        "librispeech_mfcc_data = []\n",
        "for i, filename in enumerate(os.listdir(librispeech_mfcc_path)):\n",
        "  if not filename.endswith('.txt'):\n",
        "    continue # Skip the DS Store file\n",
        "    \n",
        "  file_path = os.path.join(librispeech_mfcc_path, filename)\n",
        "  with open(file_path, 'rb') as fp:\n",
        "    mfcc_bin = fp.readlines()\n",
        "  mfcc_sequence = []\n",
        "  for line in mfcc_bin:\n",
        "    mfccs = line.decode().split(',')\n",
        "    mfccs = np.array([float(x.strip()) for x in mfccs])\n",
        "    mfcc_sequence.append(mfccs)\n",
        "  mfcc_sequence = np.array(mfcc_sequence)\n",
        "  \n",
        "  # Debug - delete files found here;\n",
        "  # they have short sequences!\n",
        "  if mfcc_sequence.shape[0] != 1999:\n",
        "    print(filename)\n",
        "    \n",
        "  librispeech_mfcc_data.append(mfcc_sequence)\n",
        "  \n",
        "librispeech_mfcc_targets = np.zeros(len(librispeech_mfcc_data))\n",
        "librispeech_mfcc_data = np.array(librispeech_mfcc_data)\n",
        "\n",
        "#print(librispeech_mfcc_data[:2])\n",
        "#print(librispeech_mfcc_data.shape)\n"
      ],
      "execution_count": 0,
      "outputs": [
        {
          "output_type": "stream",
          "text": [
            "[[[  8.79230603 -10.74250521  -1.35272022 ...  -0.55361706   3.65249517\n",
            "    12.3780681 ]\n",
            "  [  8.86446457  -9.2492255   -3.28450084 ...  -8.90280398  -1.71297948\n",
            "     5.49893365]\n",
            "  [  8.90903213  -8.70461856  -4.92324601 ...  -6.89383033  -4.38538407\n",
            "     5.27335849]\n",
            "  ...\n",
            "  [ 17.84171162   9.20065103 -18.227631   ...  -9.50700899 -16.81062172\n",
            "   -11.4448755 ]\n",
            "  [ 18.23458672   9.96045548 -21.70324488 ... -11.42189938 -11.59877846\n",
            "   -15.20932787]\n",
            "  [ 17.86619491  12.01079376 -22.0034559  ... -10.57652946  -4.61803214\n",
            "    -7.90193096]]\n",
            "\n",
            " [[ 18.95548403 -42.45979765   7.45681037 ...   0.47741849  -3.23331341\n",
            "    -0.84313617]\n",
            "  [ 19.09938384 -38.62716266  14.8062991  ...   9.16299518  -3.06664898\n",
            "    -4.21424858]\n",
            "  [ 19.26321909 -48.10693724   9.42105374 ...   7.00727643  -0.83128934\n",
            "    -2.13936014]\n",
            "  ...\n",
            "  [ 20.1817867  -41.75285182  19.26479769 ...   5.42800137  -0.27552657\n",
            "    -0.33413164]\n",
            "  [ 19.95192169 -43.48070252  17.43922952 ...   2.05315054  -3.37759293\n",
            "     2.24305647]\n",
            "  [ 19.29956729 -49.83764589  13.3406245  ...   3.58679323  -0.52214658\n",
            "    -0.82240217]]]\n",
            "(679, 1999, 13)\n"
          ],
          "name": "stdout"
        }
      ]
    },
    {
      "metadata": {
        "id": "YcCR8SFcRoWj",
        "colab_type": "code",
        "outputId": "ad1bdde8-53cf-44cd-f3d6-d0f4f8e55526",
        "colab": {
          "base_uri": "https://localhost:8080/",
          "height": 380
        }
      },
      "cell_type": "code",
      "source": [
        "print(librispeech_mfcc_data.shape)\n",
        "print(librispeech_mfcc_data.ndim)\n",
        "print(librispeech_mfcc_data[0])\n",
        "print(librispeech_mfcc_data[0].shape)\n",
        "print(librispeech_mfcc_data[0][0])\n",
        "print(librispeech_mfcc_data[0][0].shape)"
      ],
      "execution_count": 0,
      "outputs": [
        {
          "output_type": "stream",
          "text": [
            "(679, 1999, 13)\n",
            "3\n",
            "[[  8.79230603 -10.74250521  -1.35272022 ...  -0.55361706   3.65249517\n",
            "   12.3780681 ]\n",
            " [  8.86446457  -9.2492255   -3.28450084 ...  -8.90280398  -1.71297948\n",
            "    5.49893365]\n",
            " [  8.90903213  -8.70461856  -4.92324601 ...  -6.89383033  -4.38538407\n",
            "    5.27335849]\n",
            " ...\n",
            " [ 17.84171162   9.20065103 -18.227631   ...  -9.50700899 -16.81062172\n",
            "  -11.4448755 ]\n",
            " [ 18.23458672   9.96045548 -21.70324488 ... -11.42189938 -11.59877846\n",
            "  -15.20932787]\n",
            " [ 17.86619491  12.01079376 -22.0034559  ... -10.57652946  -4.61803214\n",
            "   -7.90193096]]\n",
            "(1999, 13)\n",
            "[  8.79230603 -10.74250521  -1.35272022  -4.67053917   6.83096162\n",
            "   7.28755629  -1.23069903   0.74165262   9.0321223   12.3148517\n",
            "  -0.55361706   3.65249517  12.3780681 ]\n",
            "(13,)\n"
          ],
          "name": "stdout"
        }
      ]
    },
    {
      "metadata": {
        "id": "PQbCBm2rVXdj",
        "colab_type": "code",
        "colab": {}
      },
      "cell_type": "code",
      "source": [
        "librit_mfcc_data = []\n",
        "for i, filename in enumerate(os.listdir(librit_mfcc_path)):\n",
        "  if not filename.endswith('.txt'):\n",
        "    continue # Skip the DS Store file\n",
        "    \n",
        "  file_path = os.path.join(librit_mfcc_path, filename)\n",
        "  with open(file_path, 'rb') as fp:\n",
        "    mfcc_bin = fp.readlines()\n",
        "  mfcc_sequence = []\n",
        "  for line in mfcc_bin:\n",
        "    mfccs = line.decode().split(',')\n",
        "    mfccs = np.array([float(x.strip()) for x in mfccs])\n",
        "    mfcc_sequence.append(mfccs)\n",
        "  mfcc_sequence = np.array(mfcc_sequence)\n",
        "  \n",
        "  # Debug - delete files found here;\n",
        "  # they have short sequences!\n",
        "  if mfcc_sequence.shape[0] != 1999:\n",
        "    print(filename)\n",
        "    \n",
        "  librit_mfcc_data.append(mfcc_sequence)\n",
        "  \n",
        "librit_mfcc_targets = np.zeros(len(librit_mfcc_data))\n",
        "librit_mfcc_data = np.array(librit_mfcc_data)"
      ],
      "execution_count": 0,
      "outputs": []
    },
    {
      "metadata": {
        "id": "NIDnSf7LVsV9",
        "colab_type": "code",
        "outputId": "99016919-84c3-4485-f61c-85be85ce06cb",
        "colab": {
          "base_uri": "https://localhost:8080/",
          "height": 380
        }
      },
      "cell_type": "code",
      "source": [
        "print(librit_mfcc_data.shape)\n",
        "print(librit_mfcc_data.ndim)\n",
        "print(librit_mfcc_data[0])\n",
        "print(librit_mfcc_data[0].shape)\n",
        "print(librit_mfcc_data[0][0])\n",
        "print(librit_mfcc_data[0][0].shape)"
      ],
      "execution_count": 0,
      "outputs": [
        {
          "output_type": "stream",
          "text": [
            "(1132, 1999, 13)\n",
            "3\n",
            "[[ 19.46156842 -13.61323581  -7.29812553 ...  14.641168     3.23881853\n",
            "  -12.39689347]\n",
            " [ 19.53847503 -11.81234798  -3.75293311 ...  10.45527375  -0.8380549\n",
            "  -17.8914461 ]\n",
            " [ 19.48326919  -8.97496395  -2.36564859 ...  12.73798781   6.72846121\n",
            "  -12.34157617]\n",
            " ...\n",
            " [ 14.10311261   8.66315305   2.6605261  ...   2.8587954   -7.21318313\n",
            "   -0.67766367]\n",
            " [ 14.21804649   6.79275231  -0.19572357 ...  -1.537312    -5.44987967\n",
            "   -0.51447891]\n",
            " [ 14.31429164   6.03682319  -4.10443018 ...  -4.28329442 -13.50461376\n",
            "   -2.31157788]]\n",
            "(1999, 13)\n",
            "[ 19.46156842 -13.61323581  -7.29812553  20.52609832 -12.34185347\n",
            " -57.68552216 -31.02626916  -8.29449625  -3.49638162 -20.11616787\n",
            "  14.641168     3.23881853 -12.39689347]\n",
            "(13,)\n"
          ],
          "name": "stdout"
        }
      ]
    },
    {
      "metadata": {
        "id": "M1lMQFli5Xg4",
        "colab_type": "code",
        "colab": {}
      },
      "cell_type": "code",
      "source": [
        "# Assemble and save a \"flat version\" and a \"sequential version\" of the MFCC data\n",
        "# DO NOT RERUN THIS! JUST PICKLE ONCE.\n",
        "\n",
        "# Sequential\n",
        "'''seq_mfcc_data = np.concatenate([librispeech_mfcc_data, librit_mfcc_data], axis=0)\n",
        "with open(os.path.join(proj_dir, \"seq_mfcc.pickle\"), 'wb') as jar:\n",
        "    pickle.dump(seq_mfcc_data, jar, protocol=pickle.HIGHEST_PROTOCOL)'''"
      ],
      "execution_count": 0,
      "outputs": []
    },
    {
      "metadata": {
        "id": "Fco0DII3Yzl_",
        "colab_type": "code",
        "colab": {}
      },
      "cell_type": "code",
      "source": [
        "# Flattened\n",
        "\n",
        "'''orig_len = librispeech_mfcc_data[0].shape[0]\n",
        "orig_mfcc_dim = librispeech_mfcc_data[0].shape[1] # This is always 13\n",
        "ls_nexamples = librispeech_mfcc_data.shape[0]\n",
        "flat_ls_mfcc = librispeech_mfcc_data.reshape(ls_nexamples, orig_len*orig_mfcc_dim)\n",
        "\n",
        "orig_len = librit_mfcc_data[0].shape[0]\n",
        "orig_mfcc_dim = librit_mfcc_data[0].shape[1] # This is always 13\n",
        "lb_nexamples = librit_mfcc_data.shape[0]\n",
        "flat_lb_mfcc = librit_mfcc_data.reshape(lb_nexamples, orig_len*orig_mfcc_dim)\n",
        "\n",
        "flat_mfcc_data = np.concatenate([flat_ls_mfcc, flat_lb_mfcc], axis=0)\n",
        "with open(os.path.join(proj_dir, \"flat_mfcc.pickle\"), 'wb') as jar:\n",
        "    pickle.dump(flat_mfcc_data, jar, protocol=pickle.HIGHEST_PROTOCOL)'''"
      ],
      "execution_count": 0,
      "outputs": []
    },
    {
      "metadata": {
        "id": "sCsV3h2V0MNn",
        "colab_type": "text"
      },
      "cell_type": "markdown",
      "source": [
        "# Baseline\n",
        "\n",
        "A baseline test with the MFCC data."
      ]
    },
    {
      "metadata": {
        "id": "DhYu6d9NISXD",
        "colab_type": "code",
        "outputId": "197693a4-f326-42b9-c1b5-07907297c605",
        "colab": {
          "base_uri": "https://localhost:8080/",
          "height": 35
        }
      },
      "cell_type": "code",
      "source": [
        "# Load the flat MFCC data\n",
        "with open(os.path.join(proj_dir, 'flat_mfcc.pickle'), 'rb') as jar:\n",
        "  mfcc_data = pickle.load(jar)\n",
        "\n",
        "# Set up targets\n",
        "#mfcc_targets = np.concatenate([librispeech_mfcc_targets, librit_mfcc_targets], axis=0)\n",
        "#mfcc_targets = np.concatenate([np.zeros(librispeech_mfcc_data.shape[0]), np.ones(librit_mfcc_data.shape[0])])\n",
        "# Magic numbers: 679 ls examples, 1132 librit examples\n",
        "mfcc_targets = np.concatenate([np.zeros(679), np.ones(1132)])\n",
        "print(mfcc_data.shape)"
      ],
      "execution_count": 0,
      "outputs": [
        {
          "output_type": "stream",
          "text": [
            "(1811, 25987)\n"
          ],
          "name": "stdout"
        }
      ]
    },
    {
      "metadata": {
        "id": "hZ3mKauUCjiB",
        "colab_type": "code",
        "outputId": "b983e2a5-278d-4051-dde1-eb89e072a355",
        "colab": {
          "base_uri": "https://localhost:8080/",
          "height": 35
        }
      },
      "cell_type": "code",
      "source": [
        "# Split into training and test data\n",
        "\n",
        "from sklearn.model_selection import train_test_split\n",
        "\n",
        "X_train, X_test, y_train, y_test = train_test_split(\n",
        "    mfcc_data, mfcc_targets, test_size=0.20, random_state=42)\n",
        "\n",
        "print(X_train.shape)"
      ],
      "execution_count": 0,
      "outputs": [
        {
          "output_type": "stream",
          "text": [
            "(1448, 25987)\n"
          ],
          "name": "stdout"
        }
      ]
    },
    {
      "metadata": {
        "id": "iFUJFgKoJOE7",
        "colab_type": "code",
        "outputId": "7974ca75-5be8-4043-d95b-e4bd5a1f3787",
        "colab": {
          "base_uri": "https://localhost:8080/",
          "height": 35
        }
      },
      "cell_type": "code",
      "source": [
        "# SVM baseline\n",
        "from sklearn.svm import SVC\n",
        "clf = SVC(gamma='auto')\n",
        "clf.fit(X_train, y_train)\n",
        "\n",
        "clf.score(X_train, y_train)"
      ],
      "execution_count": 0,
      "outputs": [
        {
          "output_type": "execute_result",
          "data": {
            "text/plain": [
              "1.0"
            ]
          },
          "metadata": {
            "tags": []
          },
          "execution_count": 19
        }
      ]
    },
    {
      "metadata": {
        "id": "pdWnKwP0JY3Z",
        "colab_type": "code",
        "outputId": "32196822-067c-4cfc-fa0e-36f4d740047e",
        "colab": {
          "base_uri": "https://localhost:8080/",
          "height": 35
        }
      },
      "cell_type": "code",
      "source": [
        "# Test\n",
        "clf.score(X_test, y_test)"
      ],
      "execution_count": 0,
      "outputs": [
        {
          "output_type": "execute_result",
          "data": {
            "text/plain": [
              "0.6170798898071626"
            ]
          },
          "metadata": {
            "tags": []
          },
          "execution_count": 132
        }
      ]
    },
    {
      "metadata": {
        "id": "5mS7jSWExQmy",
        "colab_type": "code",
        "outputId": "be83f791-adf7-4a4c-ffed-1ac79e202bea",
        "colab": {
          "base_uri": "https://localhost:8080/",
          "height": 53
        }
      },
      "cell_type": "code",
      "source": [
        "from sklearn.dummy import DummyClassifier\n",
        "\n",
        "uniform = DummyClassifier(strategy='most_frequent', random_state=42)\n",
        "uniform.fit(X_train, y_train)\n",
        "\n",
        "print(uniform.score(X_train, y_train))\n",
        "\n",
        "print(uniform.score(X_test, y_test))"
      ],
      "execution_count": 0,
      "outputs": [
        {
          "output_type": "stream",
          "text": [
            "0.6332872928176796\n",
            "0.5922865013774105\n"
          ],
          "name": "stdout"
        }
      ]
    },
    {
      "metadata": {
        "id": "KvJsclVxZUSQ",
        "colab_type": "text"
      },
      "cell_type": "markdown",
      "source": [
        "So the SVM with MFCCs does better than chance!\n",
        "\n",
        "# RNN\n",
        "\n"
      ]
    },
    {
      "metadata": {
        "id": "go7usXvK4R8_",
        "colab_type": "code",
        "outputId": "52395db7-e49f-4b22-dcb8-8ab53ec2de2d",
        "colab": {
          "base_uri": "https://localhost:8080/",
          "height": 35
        }
      },
      "cell_type": "code",
      "source": [
        "import os \n",
        "import numpy as np\n",
        "\n",
        "# Load sequential data from pickle\n",
        "with open(os.path.join(proj_dir, 'seq_mfcc.pickle'), 'rb') as jar:\n",
        "  mfcc_data = pickle.load(jar)\n",
        "\n",
        "# Set up targets\n",
        "# Magic numbers: 679 ls examples, 1132 librit examples\n",
        "mfcc_targets = np.concatenate([np.zeros(679), np.ones(1132)])\n",
        "print(mfcc_data.shape)"
      ],
      "execution_count": 0,
      "outputs": [
        {
          "output_type": "stream",
          "text": [
            "(1811, 1999, 13)\n"
          ],
          "name": "stdout"
        }
      ]
    },
    {
      "metadata": {
        "id": "Wyo_a2nH7s6k",
        "colab_type": "code",
        "outputId": "e915fbff-06b9-4058-a9d0-479ba6eaa554",
        "colab": {
          "base_uri": "https://localhost:8080/",
          "height": 35
        }
      },
      "cell_type": "code",
      "source": [
        "# Split into training and test data\n",
        "\n",
        "from sklearn.model_selection import train_test_split\n",
        "\n",
        "X_train, X_test, y_train, y_test = train_test_split(\n",
        "    mfcc_data, mfcc_targets, test_size=0.20, random_state=42)\n",
        "\n",
        "print(X_train.shape)"
      ],
      "execution_count": 0,
      "outputs": [
        {
          "output_type": "stream",
          "text": [
            "(1448, 1999, 13)\n"
          ],
          "name": "stdout"
        }
      ]
    },
    {
      "metadata": {
        "id": "ayb0ZexQSp2k",
        "colab_type": "code",
        "outputId": "841bf39c-6f4a-4e88-e0bb-cf46cfde96da",
        "colab": {
          "base_uri": "https://localhost:8080/",
          "height": 35
        }
      },
      "cell_type": "code",
      "source": [
        "from keras.utils import to_categorical\n",
        "y_train = to_categorical(y_train)\n",
        "y_test = to_categorical(y_test)\n",
        "print(y_test.shape)"
      ],
      "execution_count": 0,
      "outputs": [
        {
          "output_type": "stream",
          "text": [
            "(363, 2, 2)\n"
          ],
          "name": "stdout"
        }
      ]
    },
    {
      "metadata": {
        "id": "uxRfyDJhCSgg",
        "colab_type": "code",
        "colab": {}
      },
      "cell_type": "code",
      "source": [
        "from keras.callbacks import Callback, EarlyStopping, ModelCheckpoint, CSVLogger\n",
        "\n",
        "class TestCallback(Callback):\n",
        "    def __init__(self, test_data):\n",
        "        self.test_data = test_data\n",
        "\n",
        "    def on_epoch_end(self, epoch, logs={}):\n",
        "        x, y = self.test_data\n",
        "        loss, acc = self.model.evaluate(x, y, verbose=0)\n",
        "        print('\\nTesting loss: {}, acc: {}\\n'.format(loss, acc))\n",
        "      "
      ],
      "execution_count": 0,
      "outputs": []
    },
    {
      "metadata": {
        "id": "mM5IorTRuEI4",
        "colab_type": "code",
        "colab": {}
      },
      "cell_type": "code",
      "source": [
        "import datetime"
      ],
      "execution_count": 0,
      "outputs": []
    },
    {
      "metadata": {
        "id": "AV_n_sdLaC4P",
        "colab_type": "code",
        "outputId": "45676d1e-9e20-4ace-c32e-b40d6cf35d1a",
        "colab": {
          "base_uri": "https://localhost:8080/",
          "height": 417
        }
      },
      "cell_type": "code",
      "source": [
        "import keras\n",
        "from keras.models import Sequential\n",
        "from keras.layers.core import Dense, Dropout, Activation\n",
        "from keras.optimizers import SGD\n",
        "from keras.utils import np_utils\n",
        "from keras.layers import Dense\n",
        "from keras.layers import LSTM\n",
        "from keras.layers.embeddings import Embedding\n",
        "from keras.preprocessing import sequence\n",
        "\n",
        "# Set up early stopping callbacks and logging\n",
        "log_filename = '{date:%Y-%m-%d_%H:%M:%S}.txt'.format(date=datetime.datetime.now())\n",
        "mfcc_log_path = '/content/drive/My Drive/accent-classification-corpora/logging/mfcc/'\n",
        "log_path = os.path.join(mfcc_log_path, log_filename)\n",
        "\n",
        "num_lstm_units = 350\n",
        "num_epochs = 10\n",
        "batch_size = 50\n",
        "\n",
        "callbacks = [EarlyStopping(monitor='val_loss', patience=2),\n",
        "             ModelCheckpoint(filepath=os.path.join(proj_dir, 'mfcc_rnn.h5'), monitor='val_loss', save_best_only=True),\n",
        "             CSVLogger(log_path)]\n",
        "\n",
        "# Structure the network\n",
        "model = Sequential()\n",
        "model.add(LSTM(num_lstm_units, input_shape=(1999, 13)))\n",
        "model.add(Dense(2, activation='softmax'))\n",
        "model.compile(loss='categorical_crossentropy', optimizer='adam', metrics=['accuracy'])\n",
        "model.fit(X_train, y_train, epochs=num_epochs, batch_size=batch_size, validation_split=0.10, shuffle=True, callbacks=callbacks)\n",
        "\n"
      ],
      "execution_count": 0,
      "outputs": [
        {
          "output_type": "stream",
          "text": [
            "Train on 1303 samples, validate on 145 samples\n",
            "Epoch 1/10\n",
            "1303/1303 [==============================] - 157s 120ms/step - loss: 0.5974 - acc: 0.6746 - val_loss: 0.4981 - val_acc: 0.7241\n",
            "Epoch 2/10\n",
            "1303/1303 [==============================] - 156s 120ms/step - loss: 0.3367 - acc: 0.8672 - val_loss: 0.4456 - val_acc: 0.7724\n",
            "Epoch 3/10\n",
            "1303/1303 [==============================] - 155s 119ms/step - loss: 0.2023 - acc: 0.9271 - val_loss: 0.4072 - val_acc: 0.8207\n",
            "Epoch 4/10\n",
            "1303/1303 [==============================] - 155s 119ms/step - loss: 0.0939 - acc: 0.9816 - val_loss: 0.3897 - val_acc: 0.8345\n",
            "Epoch 5/10\n",
            "1303/1303 [==============================] - 154s 118ms/step - loss: 0.0733 - acc: 0.9816 - val_loss: 0.3490 - val_acc: 0.8690\n",
            "Epoch 6/10\n",
            "1303/1303 [==============================] - 155s 119ms/step - loss: 0.0695 - acc: 0.9816 - val_loss: 0.2668 - val_acc: 0.8897\n",
            "Epoch 7/10\n",
            "1303/1303 [==============================] - 154s 118ms/step - loss: 0.0158 - acc: 0.9977 - val_loss: 0.1713 - val_acc: 0.9379\n",
            "Epoch 8/10\n",
            "1303/1303 [==============================] - 154s 118ms/step - loss: 0.0048 - acc: 1.0000 - val_loss: 0.1659 - val_acc: 0.9379\n",
            "Epoch 9/10\n",
            "1303/1303 [==============================] - 155s 119ms/step - loss: 0.0057 - acc: 0.9992 - val_loss: 0.1274 - val_acc: 0.9448\n",
            "Epoch 10/10\n",
            "1303/1303 [==============================] - 156s 119ms/step - loss: 0.0019 - acc: 1.0000 - val_loss: 0.1074 - val_acc: 0.9517\n"
          ],
          "name": "stdout"
        },
        {
          "output_type": "execute_result",
          "data": {
            "text/plain": [
              "<keras.callbacks.History at 0x7ff8e3eb7710>"
            ]
          },
          "metadata": {
            "tags": []
          },
          "execution_count": 18
        }
      ]
    },
    {
      "metadata": {
        "id": "Dhd47MlCG9j6",
        "colab_type": "code",
        "outputId": "d3d04525-7567-42dc-a011-83fc05fb602d",
        "colab": {
          "base_uri": "https://localhost:8080/",
          "height": 253
        }
      },
      "cell_type": "code",
      "source": [
        "from keras.models import load_model\n",
        "\n",
        "#model.fit(X_train, y_train, epochs=2, batch_size=64,verbose=1, validation_split=0.10, shuffle =True)\n",
        "model = load_model(os.path.join(proj_dir, 'mfcc_rnn.h5'))\n",
        "print (model.summary())\n",
        "# Final evaluation of the model\n",
        "scores = model.evaluate(X_test, y_test, verbose=2)\n",
        "print (\"Accuracy: %.2f%%\" % (scores[1]*100))\n",
        "\n",
        "# Append to log\n",
        "line = 'num_lstm_units: {} \\n num_epochs: {} \\n batch_size: {}'.format(num_lstm_units, num_epochs, batch_size)\n",
        "with open(log_path, 'a') as fp:\n",
        "  fp.write('\\n')\n",
        "  fp.write(line)\n",
        "  fp.write('\\n')\n",
        "  fp.write(\"Accuracy: %.2f%%\" % (scores[1]*100))"
      ],
      "execution_count": 0,
      "outputs": [
        {
          "output_type": "stream",
          "text": [
            "_________________________________________________________________\n",
            "Layer (type)                 Output Shape              Param #   \n",
            "=================================================================\n",
            "lstm_4 (LSTM)                (None, 350)               509600    \n",
            "_________________________________________________________________\n",
            "dense_4 (Dense)              (None, 2)                 702       \n",
            "=================================================================\n",
            "Total params: 510,302\n",
            "Trainable params: 510,302\n",
            "Non-trainable params: 0\n",
            "_________________________________________________________________\n",
            "None\n",
            "Accuracy: 95.32%\n"
          ],
          "name": "stdout"
        }
      ]
    },
    {
      "metadata": {
        "id": "Kwc49OHa8VGF",
        "colab_type": "code",
        "outputId": "9f9666f6-17bb-48f9-83be-e6c8f9e35d10",
        "colab": {
          "base_uri": "https://localhost:8080/",
          "height": 340
        }
      },
      "cell_type": "code",
      "source": [
        "# Get plot of learning curves for best run\n",
        "import os\n",
        "mfcc_log_path = '/content/drive/My Drive/accent-classification-corpora/logging/mfcc/'\n",
        "\n",
        "# Best run for the MFCC RNN is: 2018-11-23_16:04:53.txt\n",
        "\n",
        "log_path = os.path.join(mfcc_log_path, '2018-11-23_16:04:53.txt')\n",
        "with open(log_path, 'r') as fp:\n",
        "  lines = fp.readlines()\n",
        "\n",
        "# Just get the train/valid acc lines, not the hyperparam info at the bottom of the log  \n",
        "lines = lines[:-5]\n",
        "\n",
        "train_loss, train_acc = [], []\n",
        "valid_loss, valid_acc = [], []\n",
        "epochs = range(1, len(lines))\n",
        "for line in lines[1:]: # Skip the first header line\n",
        "  split_line = line.split(',')\n",
        "  train_acc.append(float(split_line[1]))\n",
        "  train_loss.append(float(split_line[2]))\n",
        "  valid_acc.append(float(split_line[3]))\n",
        "  valid_loss.append(float(split_line[4])) \n",
        "  \n",
        "# Now plot\n",
        "import matplotlib.pyplot as plt\n",
        "plt.rcParams.update(plt.rcParamsDefault)\n",
        "%matplotlib inline\n",
        "plt.style.use('ggplot')\n",
        "plt.rcParams[\"figure.figsize\"] = (7,5)\n",
        "\n",
        "plt.plot(epochs, train_acc, color='blue', linestyle='solid', label='Training accuracy')\n",
        "plt.plot(epochs, train_loss, color='blue', linestyle='dashed', label='Training loss')\n",
        "\n",
        "plt.plot(epochs, valid_acc, color='red', linestyle='solid', label='Validation accuracy')\n",
        "plt.plot(epochs, valid_loss, color='red', linestyle='dashed', label='Validation loss')\n",
        "\n",
        "plt.xlabel('Number of epochs')\n",
        "plt.xticks(epochs)\n",
        "\n",
        "plt.ylabel('Classification accuracy (%) \\n / Cross-entropy loss')\n",
        "\n",
        "legend = plt.legend(frameon = 1)\n",
        "frame = legend.get_frame()\n",
        "frame.set_facecolor('white')\n",
        "frame.set_edgecolor('black')\n",
        "\n",
        "plt.show()"
      ],
      "execution_count": 0,
      "outputs": [
        {
          "output_type": "display_data",
          "data": {
            "image/png": "[encoded data removed]",
            "text/plain": [
              "<matplotlib.figure.Figure at 0x7ff8e28f9eb8>"
            ]
          },
          "metadata": {
            "tags": []
          }
        }
      ]
    }
  ]
}